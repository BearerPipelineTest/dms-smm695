{
 "cells": [
  {
   "cell_type": "markdown",
   "metadata": {},
   "source": [
    "# Tutorial pymongo\n",
    "\n",
    "Agenda:\n",
    "\n",
    "* [Intro](#intro)\n",
    "  * Connection\n",
    "  * Create\n",
    "  * Read\n",
    "  * Update\n",
    "  * Delete\n",
    "* [Scrape a Table](#scrapeatable)\n",
    "  * Get HTML\n",
    "  * Parse HTML\n",
    "  * Store in MongoDB\n",
    "\n",
    "See also the Tutorial provided by [MongoDB](https://api.mongodb.com/python/current/tutorial.html)."
   ]
  },
  {
   "cell_type": "markdown",
   "metadata": {},
   "source": [
    "# Intro"
   ]
  },
  {
   "cell_type": "markdown",
   "metadata": {},
   "source": [
    "The recomended way to install [pymongo](https://docs.mongodb.com/drivers/pymongo) is:\n",
    "```python\n",
    "python -m pip install pymongo\n",
    "```"
   ]
  },
  {
   "cell_type": "markdown",
   "metadata": {
    "ExecuteTime": {
     "end_time": "2020-06-08T07:14:49.560154Z",
     "start_time": "2020-06-08T07:14:49.555545Z"
    }
   },
   "source": [
    "## Connection"
   ]
  },
  {
   "cell_type": "code",
   "execution_count": 1,
   "metadata": {
    "ExecuteTime": {
     "end_time": "2020-06-11T07:43:05.460193Z",
     "start_time": "2020-06-11T07:43:05.224656Z"
    }
   },
   "outputs": [],
   "source": [
    "# client for a MongoDB instance\n",
    "from pymongo import MongoClient"
   ]
  },
  {
   "cell_type": "markdown",
   "metadata": {},
   "source": [
    "How to connect to the localhost:\n",
    "\n",
    "* client = MongoClient()\n",
    "* client = MongoClient('localhost', 27017)\n",
    "* client = MongoClient('mongodb://localhost:27017/')\n",
    "\n",
    "How to connect to your Atlas cluster:\n",
    "\n",
    "> You need to install some dependencies:\n",
    "`pip install 'pymongo[tls,srv]'`\n",
    "\n",
    "\n",
    "```python\n",
    "client = MongoClient(\"mongodb+srv://<username>:<password>@cluster0-tnsbt.mongodb.net/<dbname>?retryWrites=true&w=majority\")\n",
    "```"
   ]
  },
  {
   "cell_type": "code",
   "execution_count": 2,
   "metadata": {
    "ExecuteTime": {
     "end_time": "2020-06-11T07:43:07.283262Z",
     "start_time": "2020-06-11T07:43:07.266907Z"
    }
   },
   "outputs": [
    {
     "name": "stdout",
     "output_type": "stream",
     "text": [
      "\n",
      "Database\n",
      "==========\n",
      "Database(MongoClient(host=['localhost:27017'], document_class=dict, tz_aware=False, connect=True), 'smm695')\n",
      "\n",
      "Collection\n",
      "==========\n",
      "Collection(Database(MongoClient(host=['localhost:27017'], document_class=dict, tz_aware=False, connect=True), 'smm695'), 'wb_1')\n",
      "\n"
     ]
    }
   ],
   "source": [
    "# let's connect to the localhost\n",
    "client = MongoClient()\n",
    "\n",
    "# let's create a database \n",
    "db = client.smm695\n",
    "\n",
    "# and a collection\n",
    "wb_1 = db.wb_1\n",
    "\n",
    "# print connection\n",
    "print(\"\"\"\n",
    "Database\n",
    "==========\n",
    "{}\n",
    "\n",
    "Collection\n",
    "==========\n",
    "{}\n",
    "\"\"\".format(db, wb_1), flush=True\n",
    ")"
   ]
  },
  {
   "cell_type": "markdown",
   "metadata": {},
   "source": [
    "**Note**:\n",
    "\n",
    "_Databases and collections are created \"lazily\" in MongoDB_. At this point, nothing has happened on the server, both database and collection will be created with the first insert. "
   ]
  },
  {
   "cell_type": "markdown",
   "metadata": {
    "ExecuteTime": {
     "end_time": "2020-06-08T08:06:32.414946Z",
     "start_time": "2020-06-08T08:06:32.410782Z"
    }
   },
   "source": [
    "## Create"
   ]
  },
  {
   "cell_type": "code",
   "execution_count": 3,
   "metadata": {
    "ExecuteTime": {
     "end_time": "2020-06-11T07:43:09.654434Z",
     "start_time": "2020-06-11T07:43:09.618874Z"
    }
   },
   "outputs": [
    {
     "name": "stdout",
     "output_type": "stream",
     "text": [
      "\n",
      "Collection\n",
      "==========\n",
      "['wb_1']\n",
      "\n",
      "_id\n",
      "==========\n",
      "5ee1e08dc6d6b98fa8eb6d7f\n",
      "\n"
     ]
    }
   ],
   "source": [
    "# document to insert\n",
    "planet = {\"name\": \"Mercury\", \"mass\": 0.06, \"moons\": 0}\n",
    "\n",
    "# insert one\n",
    "insert_1 = wb_1.insert_one(planet)\n",
    "\n",
    "# getting _id\n",
    "insert_1.inserted_id\n",
    "\n",
    "# print info\n",
    "print(\"\"\"\n",
    "Collection\n",
    "==========\n",
    "{}\n",
    "\n",
    "_id\n",
    "==========\n",
    "{}\n",
    "\"\"\".format(db.list_collection_names(), insert_1.inserted_id), flush=True)"
   ]
  },
  {
   "cell_type": "code",
   "execution_count": 4,
   "metadata": {
    "ExecuteTime": {
     "end_time": "2020-06-11T07:43:10.362055Z",
     "start_time": "2020-06-11T07:43:10.335809Z"
    }
   },
   "outputs": [
    {
     "data": {
      "text/plain": [
       "[ObjectId('5ee1e08ec6d6b98fa8eb6d80'),\n",
       " ObjectId('5ee1e08ec6d6b98fa8eb6d81'),\n",
       " ObjectId('5ee1e08ec6d6b98fa8eb6d82')]"
      ]
     },
     "execution_count": 4,
     "metadata": {},
     "output_type": "execute_result"
    }
   ],
   "source": [
    "# array of documents\n",
    "planets = [{\n",
    "    \"name\": \"Venus\",\n",
    "    \"mass\": 0.82,\n",
    "    \"moons\": 0\n",
    "}, {\n",
    "    \"name\": \"Earth\",\n",
    "    \"mass\": 1.00,\n",
    "    \"moons\": 1\n",
    "},\n",
    "{\n",
    "    \"name\": \"Mars\",\n",
    "    \"mass\": 0.11,\n",
    "    \"moons\": 2\n",
    "}]\n",
    "\n",
    "# using insertmany\n",
    "insert_2 = wb_1.insert_many(planets)\n",
    "\n",
    "# getting _id\n",
    "insert_2.inserted_ids"
   ]
  },
  {
   "cell_type": "markdown",
   "metadata": {},
   "source": [
    "## Read"
   ]
  },
  {
   "cell_type": "code",
   "execution_count": 5,
   "metadata": {
    "ExecuteTime": {
     "end_time": "2020-06-11T07:43:11.683013Z",
     "start_time": "2020-06-11T07:43:11.678735Z"
    }
   },
   "outputs": [],
   "source": [
    "from pprint import pprint as pp"
   ]
  },
  {
   "cell_type": "code",
   "execution_count": 6,
   "metadata": {
    "ExecuteTime": {
     "end_time": "2020-06-11T07:43:12.283219Z",
     "start_time": "2020-06-11T07:43:12.274325Z"
    }
   },
   "outputs": [
    {
     "name": "stdout",
     "output_type": "stream",
     "text": [
      "{'_id': ObjectId('5ee1e08dc6d6b98fa8eb6d7f'),\n",
      " 'mass': 0.06,\n",
      " 'moons': 0,\n",
      " 'name': 'Mercury'}\n"
     ]
    }
   ],
   "source": [
    "# let's inspect a document\n",
    "pp(wb_1.find_one())"
   ]
  },
  {
   "cell_type": "code",
   "execution_count": 7,
   "metadata": {
    "ExecuteTime": {
     "end_time": "2020-06-11T07:43:13.143102Z",
     "start_time": "2020-06-11T07:43:13.126457Z"
    }
   },
   "outputs": [
    {
     "name": "stdout",
     "output_type": "stream",
     "text": [
      "{'_id': ObjectId('5ee1e08dc6d6b98fa8eb6d7f'),\n",
      " 'mass': 0.06,\n",
      " 'moons': 0,\n",
      " 'name': 'Mercury'}\n",
      "{'_id': ObjectId('5ee1e08ec6d6b98fa8eb6d80'),\n",
      " 'mass': 0.82,\n",
      " 'moons': 0,\n",
      " 'name': 'Venus'}\n"
     ]
    }
   ],
   "source": [
    "# let's find all planets without moons\n",
    "for obs in wb_1.find({'moons': 0}):\n",
    "    pp(obs)"
   ]
  },
  {
   "cell_type": "markdown",
   "metadata": {},
   "source": [
    "## Update"
   ]
  },
  {
   "cell_type": "code",
   "execution_count": 8,
   "metadata": {
    "ExecuteTime": {
     "end_time": "2020-06-11T07:43:14.951995Z",
     "start_time": "2020-06-11T07:43:14.939370Z"
    }
   },
   "outputs": [
    {
     "data": {
      "text/plain": [
       "ObjectId('5ee1e092c6d6b98fa8eb6d83')"
      ]
     },
     "execution_count": 8,
     "metadata": {},
     "output_type": "execute_result"
    }
   ],
   "source": [
    "# add a new planet\n",
    "new_planet = {\"name\": \"Jupiter\", \"mass\": 317.8, \"moons\": 75, \"rings\": True}\n",
    "wb_1.insert_one(new_planet).inserted_id"
   ]
  },
  {
   "cell_type": "code",
   "execution_count": 9,
   "metadata": {
    "ExecuteTime": {
     "end_time": "2020-06-11T07:43:15.848958Z",
     "start_time": "2020-06-11T07:43:15.837778Z"
    }
   },
   "outputs": [
    {
     "name": "stdout",
     "output_type": "stream",
     "text": [
      "\n",
      "Matched: 1\n",
      "\n",
      "Modified: 1\n",
      "\n"
     ]
    }
   ],
   "source": [
    "# update the number of moons\n",
    "name = \"Jupiter\"\n",
    "update_1 = wb_1.update_one({\"name\": name}, {\"$inc\": {\"moons\": 4}})\n",
    "\n",
    "# print info\n",
    "print(\"\"\"\n",
    "Matched: {}\n",
    "\n",
    "Modified: {}\n",
    "\"\"\".format(update_1.matched_count, update_1.modified_count), flush=True)"
   ]
  },
  {
   "cell_type": "code",
   "execution_count": 10,
   "metadata": {
    "ExecuteTime": {
     "end_time": "2020-06-11T07:43:16.594063Z",
     "start_time": "2020-06-11T07:43:16.581531Z"
    }
   },
   "outputs": [
    {
     "name": "stdout",
     "output_type": "stream",
     "text": [
      "\n",
      "Matched: 1\n",
      "\n",
      "Modified: 1\n",
      "\n"
     ]
    }
   ],
   "source": [
    "# set a new field\n",
    "update_2 = wb_1.update_one({\"name\": name}, {\"$set\": {\"type\": \"gas giants\"}})\n",
    "\n",
    "# print info\n",
    "print(\"\"\"\n",
    "Matched: {}\n",
    "\n",
    "Modified: {}\n",
    "\"\"\".format(update_2.matched_count, update_2.modified_count), flush=True)"
   ]
  },
  {
   "cell_type": "code",
   "execution_count": 11,
   "metadata": {
    "ExecuteTime": {
     "end_time": "2020-06-11T07:43:18.090373Z",
     "start_time": "2020-06-11T07:43:18.081506Z"
    }
   },
   "outputs": [
    {
     "name": "stdout",
     "output_type": "stream",
     "text": [
      "\n",
      "Matched: 1\n",
      "\n",
      "Modified: 1\n",
      "\n"
     ]
    }
   ],
   "source": [
    "# unset rings\n",
    "update_3 = wb_1.update_one({\"rings\": True}, {\"$unset\": {\"rings\": \"\"}})\n",
    "\n",
    "# print info\n",
    "print(\"\"\"\n",
    "Matched: {}\n",
    "\n",
    "Modified: {}\n",
    "\"\"\".format(update_3.matched_count, update_3.modified_count), flush=True)"
   ]
  },
  {
   "cell_type": "code",
   "execution_count": 12,
   "metadata": {
    "ExecuteTime": {
     "end_time": "2020-06-11T07:43:18.940088Z",
     "start_time": "2020-06-11T07:43:18.930974Z"
    }
   },
   "outputs": [
    {
     "name": "stdout",
     "output_type": "stream",
     "text": [
      "\n",
      "Matched: 4\n",
      "\n",
      "Modified: 4\n",
      "\n"
     ]
    }
   ],
   "source": [
    "# set \"type\" field for the other planets\n",
    "update_4 = wb_1.update_many({\"moons\": {\"$lte\" : 2}}, {\"$set\": {\"type\": \"terrestrial planets\"}})\n",
    "\n",
    "# print info\n",
    "print(\"\"\"\n",
    "Matched: {}\n",
    "\n",
    "Modified: {}\n",
    "\"\"\".format(update_4.matched_count, update_4.modified_count), flush=True)"
   ]
  },
  {
   "cell_type": "code",
   "execution_count": 13,
   "metadata": {
    "ExecuteTime": {
     "end_time": "2020-06-11T07:43:20.731241Z",
     "start_time": "2020-06-11T07:43:20.722552Z"
    }
   },
   "outputs": [
    {
     "name": "stdout",
     "output_type": "stream",
     "text": [
      "{'_id': ObjectId('5ee1e08dc6d6b98fa8eb6d7f'),\n",
      " 'mass': 0.06,\n",
      " 'moons': 0,\n",
      " 'name': 'Mercury',\n",
      " 'type': 'terrestrial planets'}\n",
      "{'_id': ObjectId('5ee1e08ec6d6b98fa8eb6d80'),\n",
      " 'mass': 0.82,\n",
      " 'moons': 0,\n",
      " 'name': 'Venus',\n",
      " 'type': 'terrestrial planets'}\n",
      "{'_id': ObjectId('5ee1e08ec6d6b98fa8eb6d81'),\n",
      " 'mass': 1.0,\n",
      " 'moons': 1,\n",
      " 'name': 'Earth',\n",
      " 'type': 'terrestrial planets'}\n",
      "{'_id': ObjectId('5ee1e08ec6d6b98fa8eb6d82'),\n",
      " 'mass': 0.11,\n",
      " 'moons': 2,\n",
      " 'name': 'Mars',\n",
      " 'type': 'terrestrial planets'}\n",
      "{'_id': ObjectId('5ee1e092c6d6b98fa8eb6d83'),\n",
      " 'mass': 317.8,\n",
      " 'moons': 79,\n",
      " 'name': 'Jupiter',\n",
      " 'type': 'gas giants'}\n"
     ]
    }
   ],
   "source": [
    "# let's see what we have\n",
    "for planet in wb_1.find():\n",
    "    pp(planet)"
   ]
  },
  {
   "cell_type": "markdown",
   "metadata": {
    "ExecuteTime": {
     "end_time": "2020-06-08T09:45:41.890016Z",
     "start_time": "2020-06-08T09:45:41.886278Z"
    }
   },
   "source": [
    "## Delete"
   ]
  },
  {
   "cell_type": "code",
   "execution_count": 14,
   "metadata": {
    "ExecuteTime": {
     "end_time": "2020-06-11T07:43:47.186793Z",
     "start_time": "2020-06-11T07:43:47.179069Z"
    }
   },
   "outputs": [
    {
     "name": "stdout",
     "output_type": "stream",
     "text": [
      "Deleted: 1\n"
     ]
    }
   ],
   "source": [
    "# delete one\n",
    "delete_1 = wb_1.delete_one({\"name\": \"Mercury\"})\n",
    "\n",
    "# print info\n",
    "print('Deleted:', delete_1.deleted_count )"
   ]
  },
  {
   "cell_type": "code",
   "execution_count": 15,
   "metadata": {
    "ExecuteTime": {
     "end_time": "2020-06-11T07:43:48.409424Z",
     "start_time": "2020-06-11T07:43:48.399552Z"
    }
   },
   "outputs": [
    {
     "name": "stdout",
     "output_type": "stream",
     "text": [
      "Deleted: 3\n"
     ]
    }
   ],
   "source": [
    "# delete many\n",
    "delete_2 = wb_1.delete_many({\"type\": \"terrestrial planets\"})\n",
    "\n",
    "# print info\n",
    "print('Deleted:', delete_2.deleted_count )"
   ]
  },
  {
   "cell_type": "code",
   "execution_count": 16,
   "metadata": {
    "ExecuteTime": {
     "end_time": "2020-06-11T07:43:49.913893Z",
     "start_time": "2020-06-11T07:43:49.886415Z"
    }
   },
   "outputs": [
    {
     "data": {
      "text/plain": [
       "[]"
      ]
     },
     "execution_count": 16,
     "metadata": {},
     "output_type": "execute_result"
    }
   ],
   "source": [
    "# drop collection\n",
    "wb_1.drop()\n",
    "\n",
    "# list collections\n",
    "db.list_collection_names()"
   ]
  },
  {
   "cell_type": "markdown",
   "metadata": {},
   "source": [
    "# Scrape a Table\n",
    "\n",
    "Here, we are going to scrape a table from a Wikipedia [page](https://en.wikipedia.org/wiki/Planet), storing results on MongoDB.\n",
    "\n",
    "[![Jupiter System Montage](https://images-assets.nasa.gov/image/PIA18469/PIA18469~orig.jpg)](https://images-assets.nasa.gov/image/PIA18469/PIA18469~orig.jpg)\n",
    "[Nasa: Building Planets Through Collisions](https://images.nasa.gov/details-PIA18469)"
   ]
  },
  {
   "cell_type": "code",
   "execution_count": 17,
   "metadata": {
    "ExecuteTime": {
     "end_time": "2020-06-11T07:43:59.045695Z",
     "start_time": "2020-06-11T07:43:58.841384Z"
    }
   },
   "outputs": [],
   "source": [
    "import requests\n",
    "from bs4 import BeautifulSoup "
   ]
  },
  {
   "cell_type": "code",
   "execution_count": 18,
   "metadata": {
    "ExecuteTime": {
     "end_time": "2020-06-11T07:43:59.844686Z",
     "start_time": "2020-06-11T07:43:59.832323Z"
    }
   },
   "outputs": [
    {
     "name": "stdout",
     "output_type": "stream",
     "text": [
      "\n",
      "Database\n",
      "==========\n",
      "Database(MongoClient(host=['localhost:27017'], document_class=dict, tz_aware=False, connect=True), 'smm695')\n",
      "\n",
      "Collection\n",
      "==========\n",
      "Collection(Database(MongoClient(host=['localhost:27017'], document_class=dict, tz_aware=False, connect=True), 'smm695'), 'wiki_planets')\n",
      "\n"
     ]
    }
   ],
   "source": [
    "# let's connect to the localhost\n",
    "client = MongoClient()\n",
    "\n",
    "# let's create a database \n",
    "db = client.smm695\n",
    "\n",
    "# collection\n",
    "wiki_planets = db.wiki_planets\n",
    "\n",
    "# print connection\n",
    "print(\"\"\"\n",
    "Database\n",
    "==========\n",
    "{}\n",
    "\n",
    "Collection\n",
    "==========\n",
    "{}\n",
    "\"\"\".format(db, wiki_planets), flush=True\n",
    ")"
   ]
  },
  {
   "cell_type": "code",
   "execution_count": 19,
   "metadata": {
    "ExecuteTime": {
     "end_time": "2020-06-11T07:44:01.511307Z",
     "start_time": "2020-06-11T07:44:01.502435Z"
    }
   },
   "outputs": [],
   "source": [
    "# set a user agent\n",
    "user_agent = 'Mozilla/5.0 (Windows; U; Windows NT 5.1; en-US) AppleWebKit/534.3 (KHTML, like Gecko) Chrome/6.0.472.53 Safari/534.3'\n",
    "header = {'user-agent': user_agent}\n",
    "\n",
    "# set a proxy\n",
    "proxy = {'https': 'http://***.***.***.***:***'}\n",
    "\n",
    "# wikipedia page\n",
    "url = \"https://en.wikipedia.org/wiki/Planet\""
   ]
  },
  {
   "cell_type": "code",
   "execution_count": 20,
   "metadata": {
    "ExecuteTime": {
     "end_time": "2020-06-11T07:44:02.911329Z",
     "start_time": "2020-06-11T07:44:02.196372Z"
    }
   },
   "outputs": [
    {
     "name": "stdout",
     "output_type": "stream",
     "text": [
      "\n",
      "User-Agent:\n",
      "===========\n",
      "Mozilla/5.0 (Windows; U; Windows NT 5.1; en-US) AppleWebKit/534.3 (KHTML, like Gecko) Chrome/6.0.472.53 Safari/534.3\n",
      "\n",
      "IP:\n",
      "===========\n",
      "****\n",
      "\n",
      "\n"
     ]
    }
   ],
   "source": [
    "# get the wiki page \n",
    "wb = requests.get(url, \n",
    "                  headers=header, \n",
    "                  #proxies=proxy, \n",
    "                  timeout=15)\n",
    "\n",
    "# parsing the webpage text\n",
    "sp = BeautifulSoup(wb.text, 'html.parser')\n",
    "\n",
    "print(\"\"\"\n",
    "User-Agent:\n",
    "===========\n",
    "{}\n",
    "\n",
    "IP:\n",
    "===========\n",
    "{}\n",
    "\n",
    "\"\"\".format(wb.request.headers['user-agent'],\n",
    "           #wb.headers['X-Client-IP']\n",
    "           '****'\n",
    "          ), flush=True)"
   ]
  },
  {
   "cell_type": "code",
   "execution_count": 21,
   "metadata": {
    "ExecuteTime": {
     "end_time": "2020-06-11T07:44:04.666466Z",
     "start_time": "2020-06-11T07:44:04.641209Z"
    }
   },
   "outputs": [
    {
     "name": "stdout",
     "output_type": "stream",
     "text": [
      "<table class=\"wikitable sortable\" style=\"margin: 1em auto; text-align: center;\">\n",
      " <tbody>\n",
      "  <tr>\n",
      "   <th>\n",
      "   </th>\n",
      "   <th class=\"unsortable\">\n",
      "    Name\n",
      "   </th>\n",
      "   <th>\n",
      "    Equatorial\n",
      "    <br/>\n",
      "    diameter\n",
      "    <sup class=\"reference\" id=\"cite_ref-relativeearth_113-0\">\n",
      "     <a href=\"#cite_note-relativeearth-113\">\n",
      "      [i]\n",
      "     </a>\n",
      "    </sup>\n",
      "   </th>\n",
      "   <th>\n",
      "    <a href=\"/wiki/Planetary_mass\" title=\"Planetary mass\">\n",
      "     Mass\n",
      "    </a>\n",
      "    <sup class=\"reference\" id=\"cite_ref-relativeearth_113-1\">\n",
      "     <a href=\"#cite_note-relativeearth-113\">\n",
      "      [i]\n",
      "     </a>\n",
      "    </sup>\n",
      "   </th>\n",
      "   <th>\n",
      "    <a class=\"mw-redirect\" href=\"/wiki/Semi-major_axis\" title=\"Semi-major axis\">\n",
      "     Semi-major axis\n",
      "    </a>\n",
      "    (\n",
      "    <a href=\"/wiki/Astronomical_unit\" title=\"Astronomical unit\">\n",
      "     AU\n",
      "    </a>\n",
      "    )\n",
      "   </th>\n",
      "   <th>\n",
      "    <a href=\"/wiki/Orbital_period\" title=\"Orbital period\">\n",
      "     Orbital period\n",
      "    </a>\n",
      "    <br/>\n",
      "    (years)\n",
      "    <sup class=\"reference\" id=\"cite_ref-relativeearth_113-2\">\n",
      "     <a href=\"#cite_note-relativeearth-113\">\n",
      "      [i]\n",
      "     </a>\n",
      "    </sup>\n",
      "   </th>\n",
      "   <th>\n",
      "    <a href=\"/wiki/Orbital_inclination\" title=\"Orbital inclination\">\n",
      "     Inclination\n",
      "     <br/>\n",
      "     to Sun's equator\n",
      "    </a>\n",
      "    (°)\n",
      "   </th>\n",
      "   <th>\n",
      "    <a href=\"/wiki/Orbital_eccentricity\" title=\"Orbital eccentricity\">\n",
      "     Orbital\n",
      "     <br/>\n",
      "     eccentricity\n",
      "    </a>\n",
      "   </th>\n",
      "   <th>\n",
      "    <a href=\"/wiki/Rotation_period\" title=\"Rotation period\">\n",
      "     Rotation period\n",
      "    </a>\n",
      "    <br/>\n",
      "    (days)\n",
      "   </th>\n",
      "   <th class=\"unsortable\">\n",
      "    Confirmed\n",
      "    <br/>\n",
      "    <a href=\"/wiki/Natural_satellite\" title=\"Natural satellite\">\n",
      "     moons\n",
      "    </a>\n",
      "    <sup class=\"reference\" id=\"cite_ref-Confirmed_115-0\">\n",
      "     <a href=\"#cite_note-Confirmed-115\">\n",
      "      [j]\n",
      "     </a>\n",
      "    </sup>\n",
      "   </th>\n",
      "   <th>\n",
      "    <a href=\"/wiki/Axial_tilt\" title=\"Axial tilt\">\n",
      "     Axial tilt\n",
      "    </a>\n",
      "    (°)\n",
      "   </th>\n",
      "   <th class=\"unsortable\">\n",
      "    <a class=\"mw-redirect\" href=\"/wiki/Ring_system_(astronomy)\" title=\"Ring system (astronomy)\">\n",
      "     Rings\n",
      "    </a>\n",
      "   </th>\n",
      "   <th class=\"unsortable\">\n",
      "    <a href=\"/wiki/Atmosphere\" title=\"Atmosphere\">\n",
      "     Atmosphere\n",
      "    </a>\n",
      "   </th>\n",
      "  </tr>\n",
      "  <tr>\n",
      "   <td style=\"background-color: #DBFFDB;\">\n",
      "    1.\n",
      "   </td>\n",
      "   <td align=\"left\">\n",
      "    <a href=\"/wiki/Mercury_(planet)\" title=\"Mercury (planet)\">\n",
      "     Mercury\n",
      "    </a>\n",
      "   </td>\n",
      "   <td>\n",
      "    0.382\n",
      "   </td>\n",
      "   <td>\n",
      "    0.06\n",
      "   </td>\n",
      "   <td>\n",
      "    0.39\n",
      "   </td>\n",
      "   <td>\n",
      "    0.24\n",
      "   </td>\n",
      "   <td>\n",
      "    3.38\n",
      "   </td>\n",
      "   <td>\n",
      "    0.206\n",
      "   </td>\n",
      "   <td>\n",
      "    58.64\n",
      "   </td>\n",
      "   <td>\n",
      "    0\n",
      "   </td>\n",
      "   <td>\n",
      "    0.04\n",
      "   </td>\n",
      "   <td>\n",
      "    no\n",
      "   </td>\n",
      "   <td>\n",
      "    minimal\n",
      "   </td>\n",
      "  </tr>\n",
      "  <tr>\n",
      "   <td style=\"background-color: #DBFFDB;\">\n",
      "    2.\n",
      "   </td>\n",
      "   <td align=\"left\">\n",
      "    <a href=\"/wiki/Venus\" title=\"Venus\">\n",
      "     Venus\n",
      "    </a>\n",
      "   </td>\n",
      "   <td>\n",
      "    0.949\n",
      "   </td>\n",
      "   <td>\n",
      "    0.82\n",
      "   </td>\n",
      "   <td>\n",
      "    0.72\n",
      "   </td>\n",
      "   <td>\n",
      "    0.62\n",
      "   </td>\n",
      "   <td>\n",
      "    3.86\n",
      "   </td>\n",
      "   <td>\n",
      "    0.007\n",
      "   </td>\n",
      "   <td>\n",
      "    −243.02\n",
      "   </td>\n",
      "   <td>\n",
      "    0\n",
      "   </td>\n",
      "   <td>\n",
      "    177.36\n",
      "   </td>\n",
      "   <td>\n",
      "    no\n",
      "   </td>\n",
      "   <td>\n",
      "    <a href=\"/wiki/Carbon_dioxide\" title=\"Carbon dioxide\">\n",
      "     CO\n",
      "     <sub>\n",
      "      2\n",
      "     </sub>\n",
      "    </a>\n",
      "    ,\n",
      "    <a href=\"/wiki/Nitrogen\" title=\"Nitrogen\">\n",
      "     N\n",
      "     <sub>\n",
      "      2\n",
      "     </sub>\n",
      "    </a>\n",
      "   </td>\n",
      "  </tr>\n",
      "  <tr>\n",
      "   <td style=\"background-color: #DBFFDB;\">\n",
      "    3.\n",
      "   </td>\n",
      "   <td align=\"left\">\n",
      "    <a href=\"/wiki/Earth\" title=\"Earth\">\n",
      "     Earth\n",
      "    </a>\n",
      "    <sup>\n",
      "     (a)\n",
      "    </sup>\n",
      "   </td>\n",
      "   <td>\n",
      "    1.00\n",
      "   </td>\n",
      "   <td>\n",
      "    1.00\n",
      "   </td>\n",
      "   <td>\n",
      "    1.00\n",
      "   </td>\n",
      "   <td>\n",
      "    1.00\n",
      "   </td>\n",
      "   <td>\n",
      "    7.25\n",
      "   </td>\n",
      "   <td>\n",
      "    0.017\n",
      "   </td>\n",
      "   <td>\n",
      "    1.00\n",
      "   </td>\n",
      "   <td>\n",
      "    <a href=\"/wiki/Moon\" title=\"Moon\">\n",
      "     1\n",
      "    </a>\n",
      "   </td>\n",
      "   <td>\n",
      "    23.44\n",
      "   </td>\n",
      "   <td>\n",
      "    no\n",
      "   </td>\n",
      "   <td>\n",
      "    N\n",
      "    <sub>\n",
      "     2\n",
      "    </sub>\n",
      "    ,\n",
      "    <a href=\"/wiki/Oxygen\" title=\"Oxygen\">\n",
      "     O\n",
      "     <sub>\n",
      "      2\n",
      "     </sub>\n",
      "    </a>\n",
      "    ,\n",
      "    <a href=\"/wiki/Argon\" title=\"Argon\">\n",
      "     Ar\n",
      "    </a>\n",
      "   </td>\n",
      "  </tr>\n",
      "  <tr>\n",
      "   <td style=\"background-color: #DBFFDB;\">\n",
      "    4.\n",
      "   </td>\n",
      "   <td align=\"left\">\n",
      "    <a href=\"/wiki/Mars\" title=\"Mars\">\n",
      "     Mars\n",
      "    </a>\n",
      "   </td>\n",
      "   <td>\n",
      "    0.532\n",
      "   </td>\n",
      "   <td>\n",
      "    0.11\n",
      "   </td>\n",
      "   <td>\n",
      "    1.52\n",
      "   </td>\n",
      "   <td>\n",
      "    1.88\n",
      "   </td>\n",
      "   <td>\n",
      "    5.65\n",
      "   </td>\n",
      "   <td>\n",
      "    0.093\n",
      "   </td>\n",
      "   <td>\n",
      "    1.03\n",
      "   </td>\n",
      "   <td>\n",
      "    <a href=\"/wiki/Moons_of_Mars\" title=\"Moons of Mars\">\n",
      "     2\n",
      "    </a>\n",
      "   </td>\n",
      "   <td>\n",
      "    25.19\n",
      "   </td>\n",
      "   <td>\n",
      "    no\n",
      "   </td>\n",
      "   <td>\n",
      "    CO\n",
      "    <sub>\n",
      "     2\n",
      "    </sub>\n",
      "    , N\n",
      "    <sub>\n",
      "     2\n",
      "    </sub>\n",
      "    , Ar\n",
      "   </td>\n",
      "  </tr>\n",
      "  <tr>\n",
      "   <td style=\"background-color: #FFEDDB;\">\n",
      "    5.\n",
      "   </td>\n",
      "   <td align=\"left\">\n",
      "    <a href=\"/wiki/Jupiter\" title=\"Jupiter\">\n",
      "     Jupiter\n",
      "    </a>\n",
      "   </td>\n",
      "   <td>\n",
      "    11.209\n",
      "   </td>\n",
      "   <td>\n",
      "    317.8\n",
      "   </td>\n",
      "   <td>\n",
      "    5.20\n",
      "   </td>\n",
      "   <td>\n",
      "    11.86\n",
      "   </td>\n",
      "   <td>\n",
      "    6.09\n",
      "   </td>\n",
      "   <td>\n",
      "    0.048\n",
      "   </td>\n",
      "   <td>\n",
      "    0.41\n",
      "   </td>\n",
      "   <td>\n",
      "    <a href=\"/wiki/Moons_of_Jupiter\" title=\"Moons of Jupiter\">\n",
      "     79\n",
      "    </a>\n",
      "   </td>\n",
      "   <td>\n",
      "    3.13\n",
      "   </td>\n",
      "   <td>\n",
      "    <a href=\"/wiki/Rings_of_Jupiter\" title=\"Rings of Jupiter\">\n",
      "     yes\n",
      "    </a>\n",
      "   </td>\n",
      "   <td>\n",
      "    <a href=\"/wiki/Hydrogen\" title=\"Hydrogen\">\n",
      "     H\n",
      "     <sub>\n",
      "      2\n",
      "     </sub>\n",
      "    </a>\n",
      "    ,\n",
      "    <a href=\"/wiki/Helium\" title=\"Helium\">\n",
      "     He\n",
      "    </a>\n",
      "   </td>\n",
      "  </tr>\n",
      "  <tr>\n",
      "   <td style=\"background-color: #FFEDDB;\">\n",
      "    6.\n",
      "   </td>\n",
      "   <td align=\"left\">\n",
      "    <a href=\"/wiki/Saturn\" title=\"Saturn\">\n",
      "     Saturn\n",
      "    </a>\n",
      "   </td>\n",
      "   <td>\n",
      "    9.449\n",
      "   </td>\n",
      "   <td>\n",
      "    95.2\n",
      "   </td>\n",
      "   <td>\n",
      "    9.54\n",
      "   </td>\n",
      "   <td>\n",
      "    29.46\n",
      "   </td>\n",
      "   <td>\n",
      "    5.51\n",
      "   </td>\n",
      "   <td>\n",
      "    0.054\n",
      "   </td>\n",
      "   <td>\n",
      "    0.43\n",
      "   </td>\n",
      "   <td>\n",
      "    <a href=\"/wiki/Moons_of_Saturn\" title=\"Moons of Saturn\">\n",
      "     82\n",
      "    </a>\n",
      "   </td>\n",
      "   <td>\n",
      "    26.73\n",
      "   </td>\n",
      "   <td>\n",
      "    <a href=\"/wiki/Rings_of_Saturn\" title=\"Rings of Saturn\">\n",
      "     yes\n",
      "    </a>\n",
      "   </td>\n",
      "   <td>\n",
      "    H\n",
      "    <sub>\n",
      "     2\n",
      "    </sub>\n",
      "    , He\n",
      "   </td>\n",
      "  </tr>\n",
      "  <tr>\n",
      "   <td style=\"background-color: #DDEEFF;\">\n",
      "    7.\n",
      "   </td>\n",
      "   <td align=\"left\">\n",
      "    <a href=\"/wiki/Uranus\" title=\"Uranus\">\n",
      "     Uranus\n",
      "    </a>\n",
      "   </td>\n",
      "   <td>\n",
      "    4.007\n",
      "   </td>\n",
      "   <td>\n",
      "    14.6\n",
      "   </td>\n",
      "   <td>\n",
      "    19.22\n",
      "   </td>\n",
      "   <td>\n",
      "    84.01\n",
      "   </td>\n",
      "   <td>\n",
      "    6.48\n",
      "   </td>\n",
      "   <td>\n",
      "    0.047\n",
      "   </td>\n",
      "   <td>\n",
      "    −0.72\n",
      "   </td>\n",
      "   <td>\n",
      "    <a href=\"/wiki/Moons_of_Uranus\" title=\"Moons of Uranus\">\n",
      "     27\n",
      "    </a>\n",
      "   </td>\n",
      "   <td>\n",
      "    97.77\n",
      "   </td>\n",
      "   <td>\n",
      "    <a href=\"/wiki/Rings_of_Uranus\" title=\"Rings of Uranus\">\n",
      "     yes\n",
      "    </a>\n",
      "   </td>\n",
      "   <td>\n",
      "    H\n",
      "    <sub>\n",
      "     2\n",
      "    </sub>\n",
      "    , He,\n",
      "    <a href=\"/wiki/Methane\" title=\"Methane\">\n",
      "     CH\n",
      "     <sub>\n",
      "      4\n",
      "     </sub>\n",
      "    </a>\n",
      "   </td>\n",
      "  </tr>\n",
      "  <tr>\n",
      "   <td style=\"background-color: #DDEEFF;\">\n",
      "    8.\n",
      "   </td>\n",
      "   <td align=\"left\">\n",
      "    <a href=\"/wiki/Neptune\" title=\"Neptune\">\n",
      "     Neptune\n",
      "    </a>\n",
      "   </td>\n",
      "   <td>\n",
      "    3.883\n",
      "   </td>\n",
      "   <td>\n",
      "    17.2\n",
      "   </td>\n",
      "   <td>\n",
      "    30.06\n",
      "   </td>\n",
      "   <td>\n",
      "    164.8\n",
      "   </td>\n",
      "   <td>\n",
      "    6.43\n",
      "   </td>\n",
      "   <td>\n",
      "    0.009\n",
      "   </td>\n",
      "   <td>\n",
      "    0.67\n",
      "   </td>\n",
      "   <td>\n",
      "    <a href=\"/wiki/Moons_of_Neptune\" title=\"Moons of Neptune\">\n",
      "     14\n",
      "    </a>\n",
      "   </td>\n",
      "   <td>\n",
      "    28.32\n",
      "   </td>\n",
      "   <td>\n",
      "    <a href=\"/wiki/Rings_of_Neptune\" title=\"Rings of Neptune\">\n",
      "     yes\n",
      "    </a>\n",
      "   </td>\n",
      "   <td>\n",
      "    H\n",
      "    <sub>\n",
      "     2\n",
      "    </sub>\n",
      "    , He, CH\n",
      "    <sub>\n",
      "     4\n",
      "    </sub>\n",
      "   </td>\n",
      "  </tr>\n",
      "  <tr>\n",
      "   <th colspan=\"13\" style=\"text-align: left; font-size: small; font-weight: normal; padding: 10px 4px 5px 4px;\">\n",
      "    Color legend:\n",
      "    <span style=\"margin:0; font-size:90%; white-space:nowrap;\">\n",
      "     <span class=\"legend-text\" style=\"border:1px solid #8FFF8F; padding:1px .6em; background-color:#DBFFDB; color:black; font-size:95%; line-height:1.25; text-align:center;\">\n",
      "     </span>\n",
      "     <a href=\"/wiki/Terrestrial_planet\" title=\"Terrestrial planet\">\n",
      "      terrestrial planets\n",
      "     </a>\n",
      "    </span>\n",
      "    <span style=\"margin:0; font-size:90%; white-space:nowrap;\">\n",
      "     <span class=\"legend-text\" style=\"border:1px solid #FFC78F; padding:1px .6em; background-color:#FFEDDB; color:black; font-size:95%; line-height:1.25; text-align:center;\">\n",
      "     </span>\n",
      "     <a href=\"/wiki/Gas_giant\" title=\"Gas giant\">\n",
      "      gas giants\n",
      "     </a>\n",
      "    </span>\n",
      "    <span style=\"margin:0; font-size:90%; white-space:nowrap;\">\n",
      "     <span class=\"legend-text\" style=\"border:1px solid #8FC7FF; padding:1px .6em; background-color:#DDEEFF; color:black; font-size:95%; line-height:1.25; text-align:center;\">\n",
      "     </span>\n",
      "     <a href=\"/wiki/Ice_giant\" title=\"Ice giant\">\n",
      "      ice giants\n",
      "     </a>\n",
      "    </span>\n",
      "    (both are\n",
      "    <a href=\"/wiki/Giant_planet\" title=\"Giant planet\">\n",
      "     giant planets\n",
      "    </a>\n",
      "    ).\n",
      "    <sup>\n",
      "     (a)\n",
      "    </sup>\n",
      "    Find absolute values in article\n",
      "    <a href=\"/wiki/Earth\" title=\"Earth\">\n",
      "     Earth\n",
      "    </a>\n",
      "   </th>\n",
      "  </tr>\n",
      " </tbody>\n",
      "</table>\n",
      "\n"
     ]
    }
   ],
   "source": [
    "# get target table\n",
    "target = sp.find('table', {'class' : \"wikitable sortable\"})\n",
    "\n",
    "print(target.prettify())"
   ]
  },
  {
   "cell_type": "code",
   "execution_count": 22,
   "metadata": {
    "ExecuteTime": {
     "end_time": "2020-06-11T07:44:18.694432Z",
     "start_time": "2020-06-11T07:44:18.639632Z"
    }
   },
   "outputs": [
    {
     "name": "stdout",
     "output_type": "stream",
     "text": [
      "5ee1e0d2c6d6b98fa8eb6d85\n",
      "5ee1e0d2c6d6b98fa8eb6d86\n",
      "5ee1e0d2c6d6b98fa8eb6d87\n",
      "5ee1e0d2c6d6b98fa8eb6d88\n",
      "5ee1e0d2c6d6b98fa8eb6d89\n",
      "5ee1e0d2c6d6b98fa8eb6d8a\n",
      "5ee1e0d2c6d6b98fa8eb6d8b\n",
      "5ee1e0d2c6d6b98fa8eb6d8c\n"
     ]
    }
   ],
   "source": [
    "# 'th' gives us the columns' titles\n",
    "header = [th.text.strip('\\n') for th in target.find_all('th')]\n",
    "\n",
    "# 'tr' defines rows and 'td' is the body to extract\n",
    "L = []\n",
    "d = {}\n",
    "x = {}\n",
    "\n",
    "\n",
    "for obj in target.findAll('tr'):\n",
    "    corpus = obj.findAll('td')\n",
    "    if len(corpus) > 0:\n",
    "        d = {'Name': corpus[1].a.get('title')}\n",
    "        for i in range(2, 13, 1):\n",
    "            column_name = header[i].encode('ascii',\n",
    "                                           'ignore').decode(\"utf-8\").replace(\n",
    "                                               '[i]', '').replace('[j]', '')\n",
    "            try:\n",
    "                x = {column_name: float(corpus[i].text.strip('\\n'))}\n",
    "            except:\n",
    "                try:\n",
    "                    x = {column_name: float(corpus[i].text.strip('\\n').replace('\\u2212', '-'))}\n",
    "                except:\n",
    "                    x = {column_name: corpus[i].text.strip('\\n')}\n",
    "            d.update(x)\n",
    "        insert = wiki_planets.insert_one(d)\n",
    "        print(insert.inserted_id)"
   ]
  },
  {
   "cell_type": "code",
   "execution_count": 23,
   "metadata": {
    "ExecuteTime": {
     "end_time": "2020-06-11T07:44:20.409779Z",
     "start_time": "2020-06-11T07:44:20.389303Z"
    },
    "scrolled": true
   },
   "outputs": [
    {
     "name": "stdout",
     "output_type": "stream",
     "text": [
      "{'Atmosphere': 'minimal',\n",
      " 'Axial tilt ()': 0.04,\n",
      " 'Confirmedmoons': 0.0,\n",
      " 'Equatorialdiameter': 0.382,\n",
      " \"Inclinationto Sun's equator ()\": 3.38,\n",
      " 'Mass': 0.06,\n",
      " 'Name': 'Mercury (planet)',\n",
      " 'Orbital period(years)': 0.24,\n",
      " 'Orbitaleccentricity': 0.206,\n",
      " 'Rings': 'no',\n",
      " 'Rotation period(days)': 58.64,\n",
      " 'Semi-major axis (AU)': 0.39,\n",
      " '_id': ObjectId('5ee1e0d2c6d6b98fa8eb6d85')}\n",
      "{'Atmosphere': 'CO2, N2',\n",
      " 'Axial tilt ()': 177.36,\n",
      " 'Confirmedmoons': 0.0,\n",
      " 'Equatorialdiameter': 0.949,\n",
      " \"Inclinationto Sun's equator ()\": 3.86,\n",
      " 'Mass': 0.82,\n",
      " 'Name': 'Venus',\n",
      " 'Orbital period(years)': 0.62,\n",
      " 'Orbitaleccentricity': 0.007,\n",
      " 'Rings': 'no',\n",
      " 'Rotation period(days)': -243.02,\n",
      " 'Semi-major axis (AU)': 0.72,\n",
      " '_id': ObjectId('5ee1e0d2c6d6b98fa8eb6d86')}\n",
      "{'Atmosphere': 'N2, O2, Ar',\n",
      " 'Axial tilt ()': 23.44,\n",
      " 'Confirmedmoons': 1.0,\n",
      " 'Equatorialdiameter': 1.0,\n",
      " \"Inclinationto Sun's equator ()\": 7.25,\n",
      " 'Mass': 1.0,\n",
      " 'Name': 'Earth',\n",
      " 'Orbital period(years)': 1.0,\n",
      " 'Orbitaleccentricity': 0.017,\n",
      " 'Rings': 'no',\n",
      " 'Rotation period(days)': 1.0,\n",
      " 'Semi-major axis (AU)': 1.0,\n",
      " '_id': ObjectId('5ee1e0d2c6d6b98fa8eb6d87')}\n",
      "{'Atmosphere': 'CO2, N2, Ar',\n",
      " 'Axial tilt ()': 25.19,\n",
      " 'Confirmedmoons': 2.0,\n",
      " 'Equatorialdiameter': 0.532,\n",
      " \"Inclinationto Sun's equator ()\": 5.65,\n",
      " 'Mass': 0.11,\n",
      " 'Name': 'Mars',\n",
      " 'Orbital period(years)': 1.88,\n",
      " 'Orbitaleccentricity': 0.093,\n",
      " 'Rings': 'no',\n",
      " 'Rotation period(days)': 1.03,\n",
      " 'Semi-major axis (AU)': 1.52,\n",
      " '_id': ObjectId('5ee1e0d2c6d6b98fa8eb6d88')}\n",
      "{'Atmosphere': 'H2, He',\n",
      " 'Axial tilt ()': 3.13,\n",
      " 'Confirmedmoons': 79.0,\n",
      " 'Equatorialdiameter': 11.209,\n",
      " \"Inclinationto Sun's equator ()\": 6.09,\n",
      " 'Mass': 317.8,\n",
      " 'Name': 'Jupiter',\n",
      " 'Orbital period(years)': 11.86,\n",
      " 'Orbitaleccentricity': 0.048,\n",
      " 'Rings': 'yes',\n",
      " 'Rotation period(days)': 0.41,\n",
      " 'Semi-major axis (AU)': 5.2,\n",
      " '_id': ObjectId('5ee1e0d2c6d6b98fa8eb6d89')}\n",
      "{'Atmosphere': 'H2, He',\n",
      " 'Axial tilt ()': 26.73,\n",
      " 'Confirmedmoons': 82.0,\n",
      " 'Equatorialdiameter': 9.449,\n",
      " \"Inclinationto Sun's equator ()\": 5.51,\n",
      " 'Mass': 95.2,\n",
      " 'Name': 'Saturn',\n",
      " 'Orbital period(years)': 29.46,\n",
      " 'Orbitaleccentricity': 0.054,\n",
      " 'Rings': 'yes',\n",
      " 'Rotation period(days)': 0.43,\n",
      " 'Semi-major axis (AU)': 9.54,\n",
      " '_id': ObjectId('5ee1e0d2c6d6b98fa8eb6d8a')}\n",
      "{'Atmosphere': 'H2, He, CH4',\n",
      " 'Axial tilt ()': 97.77,\n",
      " 'Confirmedmoons': 27.0,\n",
      " 'Equatorialdiameter': 4.007,\n",
      " \"Inclinationto Sun's equator ()\": 6.48,\n",
      " 'Mass': 14.6,\n",
      " 'Name': 'Uranus',\n",
      " 'Orbital period(years)': 84.01,\n",
      " 'Orbitaleccentricity': 0.047,\n",
      " 'Rings': 'yes',\n",
      " 'Rotation period(days)': -0.72,\n",
      " 'Semi-major axis (AU)': 19.22,\n",
      " '_id': ObjectId('5ee1e0d2c6d6b98fa8eb6d8b')}\n",
      "{'Atmosphere': 'H2, He, CH4',\n",
      " 'Axial tilt ()': 28.32,\n",
      " 'Confirmedmoons': 14.0,\n",
      " 'Equatorialdiameter': 3.883,\n",
      " \"Inclinationto Sun's equator ()\": 6.43,\n",
      " 'Mass': 17.2,\n",
      " 'Name': 'Neptune',\n",
      " 'Orbital period(years)': 164.8,\n",
      " 'Orbitaleccentricity': 0.009,\n",
      " 'Rings': 'yes',\n",
      " 'Rotation period(days)': 0.67,\n",
      " 'Semi-major axis (AU)': 30.06,\n",
      " '_id': ObjectId('5ee1e0d2c6d6b98fa8eb6d8c')}\n"
     ]
    }
   ],
   "source": [
    "# let's see what we imported:\n",
    "for doc in wiki_planets.find():\n",
    "    pp(doc)"
   ]
  },
  {
   "cell_type": "code",
   "execution_count": null,
   "metadata": {},
   "outputs": [],
   "source": []
  }
 ],
 "metadata": {
  "kernelspec": {
   "display_name": "Python 3",
   "language": "python",
   "name": "python3"
  },
  "language_info": {
   "codemirror_mode": {
    "name": "ipython",
    "version": 3
   },
   "file_extension": ".py",
   "mimetype": "text/x-python",
   "name": "python",
   "nbconvert_exporter": "python",
   "pygments_lexer": "ipython3",
   "version": "3.7.6"
  },
  "latex_envs": {
   "LaTeX_envs_menu_present": true,
   "autoclose": false,
   "autocomplete": true,
   "bibliofile": "biblio.bib",
   "cite_by": "apalike",
   "current_citInitial": 1,
   "eqLabelWithNumbers": true,
   "eqNumInitial": 1,
   "hotkeys": {
    "equation": "Ctrl-E",
    "itemize": "Ctrl-I"
   },
   "labels_anchors": false,
   "latex_user_defs": false,
   "report_style_numbering": false,
   "user_envs_cfg": false
  },
  "toc": {
   "base_numbering": 1,
   "nav_menu": {},
   "number_sections": true,
   "sideBar": true,
   "skip_h1_title": false,
   "title_cell": "Table of Contents",
   "title_sidebar": "Contents",
   "toc_cell": false,
   "toc_position": {},
   "toc_section_display": true,
   "toc_window_display": false
  },
  "varInspector": {
   "cols": {
    "lenName": 16,
    "lenType": 16,
    "lenVar": 40
   },
   "kernels_config": {
    "python": {
     "delete_cmd_postfix": "",
     "delete_cmd_prefix": "del ",
     "library": "var_list.py",
     "varRefreshCmd": "print(var_dic_list())"
    },
    "r": {
     "delete_cmd_postfix": ") ",
     "delete_cmd_prefix": "rm(",
     "library": "var_list.r",
     "varRefreshCmd": "cat(var_dic_list()) "
    }
   },
   "types_to_exclude": [
    "module",
    "function",
    "builtin_function_or_method",
    "instance",
    "_Feature"
   ],
   "window_display": false
  }
 },
 "nbformat": 4,
 "nbformat_minor": 4
}
