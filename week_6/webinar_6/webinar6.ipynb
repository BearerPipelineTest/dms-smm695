{
 "cells": [
  {
   "cell_type": "markdown",
   "metadata": {},
   "source": [
    "# Libraries"
   ]
  },
  {
   "cell_type": "code",
   "execution_count": 1,
   "metadata": {
    "ExecuteTime": {
     "end_time": "2020-06-25T10:16:49.021533Z",
     "start_time": "2020-06-25T10:16:48.941011Z"
    }
   },
   "outputs": [],
   "source": [
    "# to create a spark session object\n",
    "from pyspark.sql import SparkSession\n",
    "\n",
    "# data types\n",
    "from pyspark.sql.types import *"
   ]
  },
  {
   "cell_type": "markdown",
   "metadata": {},
   "source": [
    "# DBMS: Read and Write"
   ]
  },
  {
   "cell_type": "markdown",
   "metadata": {},
   "source": [
    "## MongoDB"
   ]
  },
  {
   "cell_type": "code",
   "execution_count": 2,
   "metadata": {
    "ExecuteTime": {
     "end_time": "2020-06-25T09:57:52.788465Z",
     "start_time": "2020-06-25T09:57:33.284001Z"
    }
   },
   "outputs": [],
   "source": [
    "# Session with Mongo\n",
    "spark_mongo = SparkSession \\\n",
    "    .builder \\\n",
    "    .appName(\"last_dance_mongo\") \\\n",
    "    .config(\"spark.mongodb.input.uri\", \"mongodb://127.0.0.1/amazon.music\") \\\n",
    "    .config(\"spark.mongodb.output.uri\", \"mongodb://127.0.0.1/amazon.msample\") \\\n",
    "    .config('spark.jars.packages', 'org.mongodb.spark:mongo-spark-connector_2.11:2.4.1') \\\n",
    "    .getOrCreate()"
   ]
  },
  {
   "cell_type": "code",
   "execution_count": 3,
   "metadata": {
    "ExecuteTime": {
     "end_time": "2020-06-25T09:57:52.861164Z",
     "start_time": "2020-06-25T09:57:52.825531Z"
    }
   },
   "outputs": [
    {
     "data": {
      "text/html": [
       "\n",
       "            <div>\n",
       "                <p><b>SparkSession - in-memory</b></p>\n",
       "                \n",
       "        <div>\n",
       "            <p><b>SparkContext</b></p>\n",
       "\n",
       "            <p><a href=\"http://192.168.1.6:4040\">Spark UI</a></p>\n",
       "\n",
       "            <dl>\n",
       "              <dt>Version</dt>\n",
       "                <dd><code>v2.4.6</code></dd>\n",
       "              <dt>Master</dt>\n",
       "                <dd><code>local[*]</code></dd>\n",
       "              <dt>AppName</dt>\n",
       "                <dd><code>last_dance_mongo</code></dd>\n",
       "            </dl>\n",
       "        </div>\n",
       "        \n",
       "            </div>\n",
       "        "
      ],
      "text/plain": [
       "<pyspark.sql.session.SparkSession at 0x105b30990>"
      ]
     },
     "execution_count": 3,
     "metadata": {},
     "output_type": "execute_result"
    }
   ],
   "source": [
    "spark_mongo"
   ]
  },
  {
   "cell_type": "code",
   "execution_count": 4,
   "metadata": {
    "ExecuteTime": {
     "end_time": "2020-06-25T09:59:50.191333Z",
     "start_time": "2020-06-25T09:59:50.188144Z"
    }
   },
   "outputs": [],
   "source": [
    "# Let's create an aggregation pipeline\n",
    "pipeline = \"[{$match: {'overall': {'$gt':1,'$lt':5}}}, {'$unset':['helpful', 'reviewTime', ]}]\""
   ]
  },
  {
   "cell_type": "code",
   "execution_count": 5,
   "metadata": {
    "ExecuteTime": {
     "end_time": "2020-06-25T10:00:07.418163Z",
     "start_time": "2020-06-25T09:59:58.314433Z"
    }
   },
   "outputs": [
    {
     "name": "stdout",
     "output_type": "stream",
     "text": [
      "root\n",
      " |-- _id: struct (nullable = true)\n",
      " |    |-- oid: string (nullable = true)\n",
      " |-- asin: string (nullable = true)\n",
      " |-- date: timestamp (nullable = true)\n",
      " |-- overall: integer (nullable = true)\n",
      " |-- reviewText: string (nullable = true)\n",
      " |-- reviewerID: string (nullable = true)\n",
      " |-- reviewerName: string (nullable = true)\n",
      " |-- summary: string (nullable = true)\n",
      " |-- unixReviewTime: integer (nullable = true)\n",
      "\n"
     ]
    }
   ],
   "source": [
    "# load data from MongoDB\n",
    "df = spark_mongo.read.format(\"mongo\").option(\"pipeline\", pipeline).load()\n",
    "\n",
    "df.printSchema()"
   ]
  },
  {
   "cell_type": "code",
   "execution_count": 6,
   "metadata": {
    "ExecuteTime": {
     "end_time": "2020-06-25T10:01:00.965951Z",
     "start_time": "2020-06-25T10:00:25.616679Z"
    }
   },
   "outputs": [
    {
     "name": "stdout",
     "output_type": "stream",
     "text": [
      "+-------+------------------+--------------------+\n",
      "|summary|           overall|      unixReviewTime|\n",
      "+-------+------------------+--------------------+\n",
      "|  count|            394721|              394721|\n",
      "|   mean|3.5060663101279133|1.1654359025965176E9|\n",
      "| stddev|0.6970894021047445|1.3175298931230733E8|\n",
      "|    min|                 2|           883526400|\n",
      "|    max|                 4|          1406073600|\n",
      "+-------+------------------+--------------------+\n",
      "\n"
     ]
    }
   ],
   "source": [
    "# get some stats\n",
    "df.describe(['overall', 'unixReviewTime']).show()"
   ]
  },
  {
   "cell_type": "code",
   "execution_count": 7,
   "metadata": {
    "ExecuteTime": {
     "end_time": "2020-06-25T10:02:13.666466Z",
     "start_time": "2020-06-25T10:02:13.643141Z"
    }
   },
   "outputs": [],
   "source": [
    "# Get a sample\n",
    "# sample(withReplacement=None, fraction=None, seed=None)\n",
    "df=df.sample(0.01, 123)"
   ]
  },
  {
   "cell_type": "code",
   "execution_count": 8,
   "metadata": {
    "ExecuteTime": {
     "end_time": "2020-06-25T10:03:57.211210Z",
     "start_time": "2020-06-25T10:03:56.975884Z"
    }
   },
   "outputs": [],
   "source": [
    "# to tokenize\n",
    "from pyspark.ml.feature import Tokenizer\n",
    "\n",
    "# Tokenize text\n",
    "tokenizer = Tokenizer(outputCol=\"tokenized\", inputCol=\"reviewText\")\n",
    "df=tokenizer.transform(df)"
   ]
  },
  {
   "cell_type": "code",
   "execution_count": 9,
   "metadata": {
    "ExecuteTime": {
     "end_time": "2020-06-25T10:04:20.044010Z",
     "start_time": "2020-06-25T10:04:03.208559Z"
    }
   },
   "outputs": [],
   "source": [
    "# Let's save \n",
    "df.write.format(\"mongo\").mode(\"append\").save()"
   ]
  },
  {
   "cell_type": "markdown",
   "metadata": {},
   "source": [
    "## PostgreSQL"
   ]
  },
  {
   "cell_type": "code",
   "execution_count": 2,
   "metadata": {
    "ExecuteTime": {
     "end_time": "2020-06-25T10:06:41.394348Z",
     "start_time": "2020-06-25T10:06:34.884663Z"
    }
   },
   "outputs": [],
   "source": [
    "# Open a session with Postgre\n",
    "spark_postgre = SparkSession \\\n",
    "    .builder \\\n",
    "    .appName(\"spark_postgre\") \\\n",
    "    .config(\"spark.jars\", \"/Users/matteo/py3_venvs/smm695/share/py4j/postgresql-42.2.14.jar\") \\\n",
    "    .getOrCreate()"
   ]
  },
  {
   "cell_type": "code",
   "execution_count": 3,
   "metadata": {
    "ExecuteTime": {
     "end_time": "2020-06-24T13:40:42.892207Z",
     "start_time": "2020-06-24T13:40:42.861955Z"
    }
   },
   "outputs": [
    {
     "data": {
      "text/html": [
       "\n",
       "            <div>\n",
       "                <p><b>SparkSession - in-memory</b></p>\n",
       "                \n",
       "        <div>\n",
       "            <p><b>SparkContext</b></p>\n",
       "\n",
       "            <p><a href=\"http://172.20.10.2:4040\">Spark UI</a></p>\n",
       "\n",
       "            <dl>\n",
       "              <dt>Version</dt>\n",
       "                <dd><code>v2.4.6</code></dd>\n",
       "              <dt>Master</dt>\n",
       "                <dd><code>local[*]</code></dd>\n",
       "              <dt>AppName</dt>\n",
       "                <dd><code>spark_postgre</code></dd>\n",
       "            </dl>\n",
       "        </div>\n",
       "        \n",
       "            </div>\n",
       "        "
      ],
      "text/plain": [
       "<pyspark.sql.session.SparkSession at 0x10f4f4890>"
      ]
     },
     "execution_count": 3,
     "metadata": {},
     "output_type": "execute_result"
    }
   ],
   "source": [
    "spark_postgre"
   ]
  },
  {
   "cell_type": "markdown",
   "metadata": {},
   "source": [
    " <img src=\"images/_0.png\" width=50%>"
   ]
  },
  {
   "cell_type": "code",
   "execution_count": 3,
   "metadata": {
    "ExecuteTime": {
     "end_time": "2020-06-25T10:09:40.662256Z",
     "start_time": "2020-06-25T10:09:37.971289Z"
    }
   },
   "outputs": [
    {
     "name": "stdout",
     "output_type": "stream",
     "text": [
      "root\n",
      " |-- accession_number: string (nullable = true)\n",
      " |-- artistid: integer (nullable = true)\n",
      " |-- role_id: integer (nullable = true)\n",
      " |-- char_id: integer (nullable = true)\n",
      " |-- credit_id: integer (nullable = true)\n",
      " |-- tcpr_id: integer (nullable = true)\n",
      " |-- inscr_id: integer (nullable = true)\n",
      "\n",
      "root\n",
      " |-- accession_number: string (nullable = true)\n",
      " |-- title: string (nullable = true)\n",
      " |-- datetext: string (nullable = true)\n",
      " |-- year: integer (nullable = true)\n",
      " |-- thumbnailurl: string (nullable = true)\n",
      " |-- url: string (nullable = true)\n",
      "\n",
      "root\n",
      " |-- artistid: integer (nullable = true)\n",
      " |-- artist: string (nullable = true)\n",
      " |-- last_name: string (nullable = true)\n",
      " |-- title_name: string (nullable = true)\n",
      " |-- first_name: string (nullable = true)\n",
      " |-- second_name: string (nullable = true)\n",
      "\n",
      "root\n",
      " |-- artistrole: string (nullable = true)\n",
      " |-- role_id: integer (nullable = true)\n",
      "\n"
     ]
    }
   ],
   "source": [
    "# Read data from PostgreSQL running at localhost\n",
    "params = spark_postgre.read \\\n",
    "    .format(\"jdbc\") \\\n",
    "    .option(\"url\", \"jdbc:postgresql://localhost:5433/tate\") \\\n",
    "    .option(\"user\", \"postgres\") \\\n",
    "    .option(\"password\", \"smm695\") \\\n",
    "    .option(\"driver\", \"org.postgresql.Driver\")\n",
    "\n",
    "df_0 = params \\\n",
    "    .option(\"dbtable\", \"artworks_id\") \\\n",
    "    .load()\n",
    "\n",
    "df_1 = params \\\n",
    "    .option(\"dbtable\", \"artworks\") \\\n",
    "    .load()\n",
    "\n",
    "df_2 = params \\\n",
    "    .option(\"dbtable\", \"artists\") \\\n",
    "    .load()\n",
    "\n",
    "df_3 = params \\\n",
    "    .option(\"dbtable\", \"roles\") \\\n",
    "    .load()\n",
    "\n",
    "df_0.printSchema()\n",
    "df_1.printSchema()\n",
    "df_2.printSchema()\n",
    "df_3.printSchema()"
   ]
  },
  {
   "cell_type": "code",
   "execution_count": 4,
   "metadata": {
    "ExecuteTime": {
     "end_time": "2020-06-25T10:11:55.103133Z",
     "start_time": "2020-06-25T10:11:38.057101Z"
    }
   },
   "outputs": [
    {
     "name": "stdout",
     "output_type": "stream",
     "text": [
      "+--------------------+----+--------------------+-----------+\n",
      "|               title|year|              artist| artistrole|\n",
      "+--------------------+----+--------------------+-----------+\n",
      "|View of a Ruined ...|1798|Gilpin, Rev. William|imitator of|\n",
      "|         Hythe, Kent|1816|      De Wint, Peter|      after|\n",
      "|Undercliff, Isle ...|1814|      De Wint, Peter|      after|\n",
      "|         Hythe, Kent|1816|      De Wint, Peter|      after|\n",
      "|Cowes Castle, Isl...|1818|      De Wint, Peter|      after|\n",
      "|The Logan Rock, C...|1818|      De Wint, Peter|      after|\n",
      "|Black Gang Chine,...|1816|      De Wint, Peter|      after|\n",
      "|Cowes Castle, Isl...|1818|      De Wint, Peter|      after|\n",
      "|Scene on the Beac...|1816|      De Wint, Peter|      after|\n",
      "|The Logan Rock, C...|1818|      De Wint, Peter|      after|\n",
      "|Scene on the Beac...|1816|      De Wint, Peter|      after|\n",
      "|Undercliff, Isle ...|1814|      De Wint, Peter|      after|\n",
      "|              Bognor|1820|      De Wint, Peter|      after|\n",
      "|              Bognor|1820|      De Wint, Peter|      after|\n",
      "|Black Gang Chine,...|1816|      De Wint, Peter|      after|\n",
      "|        Boyne Castle|1805|      Girtin, Thomas|      after|\n",
      "|The Rivers of Eng...|1825|      Girtin, Thomas|      after|\n",
      "|Kirkstall Abbey o...|1824|      Girtin, Thomas|      after|\n",
      "|Chelsea Reach, Lo...|1823|      Girtin, Thomas|      after|\n",
      "|Bolton Abbey, Yor...|1809|      Girtin, Thomas|      after|\n",
      "+--------------------+----+--------------------+-----------+\n",
      "only showing top 20 rows\n",
      "\n"
     ]
    }
   ],
   "source": [
    "# Create temporary tables\n",
    "df_0.createOrReplaceTempView('artworks_id')\n",
    "df_1.createOrReplaceTempView('artworks')\n",
    "df_2.createOrReplaceTempView('artists')\n",
    "df_3.createOrReplaceTempView('roles')\n",
    "\n",
    "\n",
    "df = spark_postgre.sql(\"\"\"\n",
    "SELECT title, year, artist, artistrole\n",
    "FROM artworks aws\n",
    "JOIN artworks_id aid ON aid.accession_number = aws.accession_number\n",
    "JOIN artists as ON as.artistid = aid.artistid\n",
    "JOIN roles r ON r.role_id = aid.role_id\n",
    "WHERE year IS NOT NULL\"\"\")\n",
    "\n",
    "df.show()"
   ]
  },
  {
   "cell_type": "code",
   "execution_count": 5,
   "metadata": {
    "ExecuteTime": {
     "end_time": "2020-06-25T10:14:07.811262Z",
     "start_time": "2020-06-25T10:13:46.788282Z"
    }
   },
   "outputs": [
    {
     "data": {
      "text/plain": [
       "[Row(title='View of a Ruined Castle over a Gorge', year=1798, artist='Gilpin, Rev. William', artistrole='imitator of', artistrole_index=8.0),\n",
       " Row(title='Hythe, Kent', year=1816, artist='De Wint, Peter', artistrole='after', artistrole_index=1.0),\n",
       " Row(title='Undercliff, Isle of Wight, Hampshire', year=1814, artist='De Wint, Peter', artistrole='after', artistrole_index=1.0),\n",
       " Row(title='Hythe, Kent', year=1816, artist='De Wint, Peter', artistrole='after', artistrole_index=1.0),\n",
       " Row(title='Cowes Castle, Isle of Wight', year=1818, artist='De Wint, Peter', artistrole='after', artistrole_index=1.0)]"
      ]
     },
     "execution_count": 5,
     "metadata": {},
     "output_type": "execute_result"
    }
   ],
   "source": [
    "from pyspark.ml.feature import StringIndexer\n",
    "\n",
    "# indexer\n",
    "indexer = StringIndexer() \\\n",
    ".setInputCol(\"artistrole\") \\\n",
    ".setOutputCol(\"artistrole_index\")\n",
    "\n",
    "# fit the indexer\n",
    "fitted = indexer.fit(df)\n",
    "\n",
    "# modify data\n",
    "df = fitted.transform(df)\n",
    "\n",
    "# show five\n",
    "df.take(5)"
   ]
  },
  {
   "cell_type": "code",
   "execution_count": 6,
   "metadata": {
    "ExecuteTime": {
     "end_time": "2020-06-25T10:14:44.373457Z",
     "start_time": "2020-06-25T10:14:33.353817Z"
    }
   },
   "outputs": [
    {
     "data": {
      "text/plain": [
       "'\\ndf.write     .format(\"jdbc\")     .option(\"url\", \"jdbc:postgresql://localhost:5433/tate\")     .option(\"dbtable\", \"test\")     .option(\"user\", \"postgres\")     .option(\"password\", \"smm695\")     .option(\"driver\", \"org.postgresql.Driver\")     .mode(\"overwrite\")     .save()\\n'"
      ]
     },
     "execution_count": 6,
     "metadata": {},
     "output_type": "execute_result"
    }
   ],
   "source": [
    "# save the table\n",
    "mode = \"overwrite\"\n",
    "url = \"jdbc:postgresql://localhost:5433/tate\"\n",
    "properties = {\"user\": \"postgres\",\"password\": \"smm695\",\"driver\": \"org.postgresql.Driver\"}\n",
    "\n",
    "df.write.jdbc(url=url, table=\"test\", mode=mode, properties=properties)\n",
    "\n",
    "# alternative script:\n",
    "\"\"\"\n",
    "df.write \\\n",
    "    .format(\"jdbc\") \\\n",
    "    .option(\"url\", \"jdbc:postgresql://localhost:5433/tate\") \\\n",
    "    .option(\"dbtable\", \"test\") \\\n",
    "    .option(\"user\", \"postgres\") \\\n",
    "    .option(\"password\", \"smm695\") \\\n",
    "    .option(\"driver\", \"org.postgresql.Driver\") \\\n",
    "    .mode(\"overwrite\") \\\n",
    "    .save()\n",
    "\"\"\""
   ]
  },
  {
   "cell_type": "markdown",
   "metadata": {},
   "source": [
    "# Preprocessing and Regression"
   ]
  },
  {
   "cell_type": "markdown",
   "metadata": {},
   "source": [
    "## Set-up"
   ]
  },
  {
   "cell_type": "code",
   "execution_count": 2,
   "metadata": {
    "ExecuteTime": {
     "end_time": "2020-06-25T10:18:14.720793Z",
     "start_time": "2020-06-25T10:17:54.000466Z"
    }
   },
   "outputs": [],
   "source": [
    "# Open a session\n",
    "spark_session = SparkSession \\\n",
    "    .builder \\\n",
    "    .appName(\"analysis\") \\\n",
    "    .config(\"spark.jars\", \"/Users/matteo/py3_venvs/smm695/share/py4j/postgresql-42.2.14.jar\") \\\n",
    "    .config('spark.jars.packages', 'org.mongodb.spark:mongo-spark-connector_2.11:2.4.1') \\\n",
    "    .getOrCreate()"
   ]
  },
  {
   "cell_type": "code",
   "execution_count": 3,
   "metadata": {
    "ExecuteTime": {
     "end_time": "2020-06-25T10:18:14.861407Z",
     "start_time": "2020-06-25T10:18:14.796446Z"
    }
   },
   "outputs": [
    {
     "data": {
      "text/html": [
       "\n",
       "            <div>\n",
       "                <p><b>SparkSession - in-memory</b></p>\n",
       "                \n",
       "        <div>\n",
       "            <p><b>SparkContext</b></p>\n",
       "\n",
       "            <p><a href=\"http://192.168.1.6:4040\">Spark UI</a></p>\n",
       "\n",
       "            <dl>\n",
       "              <dt>Version</dt>\n",
       "                <dd><code>v2.4.6</code></dd>\n",
       "              <dt>Master</dt>\n",
       "                <dd><code>local[*]</code></dd>\n",
       "              <dt>AppName</dt>\n",
       "                <dd><code>analysis</code></dd>\n",
       "            </dl>\n",
       "        </div>\n",
       "        \n",
       "            </div>\n",
       "        "
      ],
      "text/plain": [
       "<pyspark.sql.session.SparkSession at 0x10986dfd0>"
      ]
     },
     "execution_count": 3,
     "metadata": {},
     "output_type": "execute_result"
    }
   ],
   "source": [
    "spark_session"
   ]
  },
  {
   "cell_type": "code",
   "execution_count": 4,
   "metadata": {
    "ExecuteTime": {
     "end_time": "2020-06-25T10:19:48.913715Z",
     "start_time": "2020-06-25T10:19:43.592370Z"
    }
   },
   "outputs": [
    {
     "name": "stdout",
     "output_type": "stream",
     "text": [
      "root\n",
      " |-- year: integer (nullable = true)\n",
      " |-- imdb: string (nullable = true)\n",
      " |-- title: string (nullable = true)\n",
      " |-- test: string (nullable = true)\n",
      " |-- clean_test: string (nullable = true)\n",
      " |-- binary: string (nullable = true)\n",
      " |-- budget: integer (nullable = true)\n",
      " |-- domgross: string (nullable = true)\n",
      " |-- intgross: string (nullable = true)\n",
      " |-- code: string (nullable = true)\n",
      " |-- budget_2013$: integer (nullable = true)\n",
      " |-- domgross_2013$: string (nullable = true)\n",
      " |-- intgross_2013$: string (nullable = true)\n",
      " |-- period code: integer (nullable = true)\n",
      " |-- decade code: integer (nullable = true)\n",
      "\n"
     ]
    }
   ],
   "source": [
    "# import SparkFiles\n",
    "from pyspark import SparkFiles\n",
    "\n",
    "# target dataset\n",
    "url = 'https://raw.githubusercontent.com/fivethirtyeight/data/master/bechdel/movies.csv'\n",
    "\n",
    "# loading data with pyspark\n",
    "spark_session.sparkContext.addFile(url)\n",
    "df = spark_session.read.csv(SparkFiles.get('movies.csv'), header=True, inferSchema=True)\n",
    "\n",
    "# let's print the schema\n",
    "df.printSchema()"
   ]
  },
  {
   "cell_type": "markdown",
   "metadata": {},
   "source": [
    "## Preprocessing data"
   ]
  },
  {
   "cell_type": "code",
   "execution_count": 5,
   "metadata": {
    "ExecuteTime": {
     "end_time": "2020-06-25T10:22:28.062927Z",
     "start_time": "2020-06-25T10:22:28.021047Z"
    }
   },
   "outputs": [],
   "source": [
    "# pyspark rename 'budget_2013$'\n",
    "df=df.withColumnRenamed('budget_2013$', 'budget_2013')"
   ]
  },
  {
   "cell_type": "code",
   "execution_count": 6,
   "metadata": {
    "ExecuteTime": {
     "end_time": "2020-06-25T10:22:30.875900Z",
     "start_time": "2020-06-25T10:22:28.643061Z"
    }
   },
   "outputs": [
    {
     "name": "stdout",
     "output_type": "stream",
     "text": [
      "+-------+-----------------+----------+------+-------------------+--------------------+--------------------+\n",
      "|summary|             year|clean_test|binary|        budget_2013|      domgross_2013$|      intgross_2013$|\n",
      "+-------+-----------------+----------+------+-------------------+--------------------+--------------------+\n",
      "|  count|             1794|      1794|  1794|               1794|                1794|                1794|\n",
      "|   mean|2002.552396878484|      null|  null|5.546460845150502E7| 9.517478357601352E7|1.9783798496859226E8|\n",
      "| stddev|8.979730993075055|      null|  null|5.491863559804196E7|1.2596534889270218E8|2.8350794819797343E8|\n",
      "|    min|             1970|   dubious|  FAIL|               8632|                #N/A|                #N/A|\n",
      "|    max|             2013|        ok|  PASS|          461435929|             9998368|             9998368|\n",
      "+-------+-----------------+----------+------+-------------------+--------------------+--------------------+\n",
      "\n"
     ]
    }
   ],
   "source": [
    "df.describe(['year', 'clean_test', 'binary', 'budget_2013', 'domgross_2013$', 'intgross_2013$']).show()"
   ]
  },
  {
   "cell_type": "markdown",
   "metadata": {},
   "source": [
    "### Change data-type"
   ]
  },
  {
   "cell_type": "code",
   "execution_count": 7,
   "metadata": {
    "ExecuteTime": {
     "end_time": "2020-06-25T10:23:48.884547Z",
     "start_time": "2020-06-25T10:23:48.771570Z"
    }
   },
   "outputs": [],
   "source": [
    "# Cast values to int\n",
    "df = df.withColumn(\"domgross_2013\", df[\"domgross_2013$\"].cast(IntegerType()))\n",
    "df = df.withColumn(\"intgross_2013\", df[\"intgross_2013$\"].cast(IntegerType()))"
   ]
  },
  {
   "cell_type": "markdown",
   "metadata": {},
   "source": [
    "### Drop null values"
   ]
  },
  {
   "cell_type": "code",
   "execution_count": 8,
   "metadata": {
    "ExecuteTime": {
     "end_time": "2020-06-25T10:24:23.312083Z",
     "start_time": "2020-06-25T10:24:23.195172Z"
    }
   },
   "outputs": [],
   "source": [
    "# drop null values\n",
    "df=df.na.drop(\"any\")"
   ]
  },
  {
   "cell_type": "code",
   "execution_count": 9,
   "metadata": {
    "ExecuteTime": {
     "end_time": "2020-06-25T10:26:20.601670Z",
     "start_time": "2020-06-25T10:26:17.898869Z"
    }
   },
   "outputs": [
    {
     "data": {
      "image/png": "[encoded data removed]",
      "text/plain": [
       "<Figure size 864x576 with 4 Axes>"
      ]
     },
     "metadata": {
      "needs_background": "light"
     },
     "output_type": "display_data"
    }
   ],
   "source": [
    "# let's inspect data\n",
    "hist = df.select(['year','budget_2013', \"domgross_2013\", \"intgross_2013\"\n",
    "                  ]) \\\n",
    "         .sample(False, 0.5, 123) \\\n",
    "         .toPandas() \\\n",
    "         .hist(bins=20,figsize=(12, 8))"
   ]
  },
  {
   "cell_type": "markdown",
   "metadata": {},
   "source": [
    "### Categorical Features"
   ]
  },
  {
   "cell_type": "code",
   "execution_count": 10,
   "metadata": {
    "ExecuteTime": {
     "end_time": "2020-06-25T10:26:47.605107Z",
     "start_time": "2020-06-25T10:26:44.509156Z"
    }
   },
   "outputs": [
    {
     "name": "stdout",
     "output_type": "stream",
     "text": [
      "+----------+-----+\n",
      "|clean_test|count|\n",
      "+----------+-----+\n",
      "|       men|  167|\n",
      "|   nowomen|  118|\n",
      "|        ok|  743|\n",
      "|   dubious|  123|\n",
      "|    notalk|  447|\n",
      "+----------+-----+\n",
      "\n",
      "+------+-----+\n",
      "|binary|count|\n",
      "+------+-----+\n",
      "|  FAIL|  855|\n",
      "|  PASS|  743|\n",
      "+------+-----+\n",
      "\n"
     ]
    }
   ],
   "source": [
    "# Let's inspect string data\n",
    "df.groupby('clean_test').count().show()\n",
    "df.groupby('binary').count().show()"
   ]
  },
  {
   "cell_type": "code",
   "execution_count": 11,
   "metadata": {
    "ExecuteTime": {
     "end_time": "2020-06-25T10:29:37.310498Z",
     "start_time": "2020-06-25T10:29:35.437495Z"
    }
   },
   "outputs": [
    {
     "name": "stdout",
     "output_type": "stream",
     "text": [
      "+------+----------+----------+--------------+\n",
      "|binary|binary_idx|clean_test|clean_test_idx|\n",
      "+------+----------+----------+--------------+\n",
      "|  FAIL|       0.0|    notalk|           1.0|\n",
      "|  PASS|       1.0|        ok|           0.0|\n",
      "|  FAIL|       0.0|    notalk|           1.0|\n",
      "|  FAIL|       0.0|    notalk|           1.0|\n",
      "|  FAIL|       0.0|       men|           2.0|\n",
      "|  FAIL|       0.0|       men|           2.0|\n",
      "|  FAIL|       0.0|    notalk|           1.0|\n",
      "|  PASS|       1.0|        ok|           0.0|\n",
      "|  PASS|       1.0|        ok|           0.0|\n",
      "|  FAIL|       0.0|    notalk|           1.0|\n",
      "|  PASS|       1.0|        ok|           0.0|\n",
      "|  PASS|       1.0|        ok|           0.0|\n",
      "|  PASS|       1.0|        ok|           0.0|\n",
      "|  PASS|       1.0|        ok|           0.0|\n",
      "|  FAIL|       0.0|    notalk|           1.0|\n",
      "|  PASS|       1.0|        ok|           0.0|\n",
      "|  FAIL|       0.0|   nowomen|           4.0|\n",
      "|  PASS|       1.0|        ok|           0.0|\n",
      "|  FAIL|       0.0|   dubious|           3.0|\n",
      "|  PASS|       1.0|        ok|           0.0|\n",
      "+------+----------+----------+--------------+\n",
      "only showing top 20 rows\n",
      "\n"
     ]
    }
   ],
   "source": [
    "# Applying some transformations: String indexer\n",
    "from pyspark.ml.feature import StringIndexer\n",
    "\n",
    "# Indexing 'clean_test'\n",
    "idx_0 = StringIndexer().setInputCol(\"clean_test\").setOutputCol(\"clean_test_idx\")\n",
    "\n",
    "# Indexing 'binary'\n",
    "idx_1 = StringIndexer() \\\n",
    "        .setInputCol(\"binary\") \\\n",
    "        .setOutputCol(\"binary_idx\")\n",
    "\n",
    "# Applying to df\n",
    "df = idx_0.fit(df).transform(df)\n",
    "df = idx_1.fit(df).transform(df)\n",
    "\n",
    "# Inspect result\n",
    "df.select(['binary', 'binary_idx','clean_test', 'clean_test_idx']).show()"
   ]
  },
  {
   "cell_type": "code",
   "execution_count": 12,
   "metadata": {
    "ExecuteTime": {
     "end_time": "2020-06-25T10:31:35.144433Z",
     "start_time": "2020-06-25T10:31:34.186130Z"
    }
   },
   "outputs": [
    {
     "name": "stdout",
     "output_type": "stream",
     "text": [
      "+----------+--------------+--------------+\n",
      "|clean_test|clean_test_idx|clean_test_ohe|\n",
      "+----------+--------------+--------------+\n",
      "|    notalk|           1.0| (4,[1],[1.0])|\n",
      "|        ok|           0.0| (4,[0],[1.0])|\n",
      "|    notalk|           1.0| (4,[1],[1.0])|\n",
      "|    notalk|           1.0| (4,[1],[1.0])|\n",
      "|       men|           2.0| (4,[2],[1.0])|\n",
      "|       men|           2.0| (4,[2],[1.0])|\n",
      "|    notalk|           1.0| (4,[1],[1.0])|\n",
      "|        ok|           0.0| (4,[0],[1.0])|\n",
      "|        ok|           0.0| (4,[0],[1.0])|\n",
      "|    notalk|           1.0| (4,[1],[1.0])|\n",
      "|        ok|           0.0| (4,[0],[1.0])|\n",
      "|        ok|           0.0| (4,[0],[1.0])|\n",
      "|        ok|           0.0| (4,[0],[1.0])|\n",
      "|        ok|           0.0| (4,[0],[1.0])|\n",
      "|    notalk|           1.0| (4,[1],[1.0])|\n",
      "|        ok|           0.0| (4,[0],[1.0])|\n",
      "|   nowomen|           4.0|     (4,[],[])|\n",
      "|        ok|           0.0| (4,[0],[1.0])|\n",
      "|   dubious|           3.0| (4,[3],[1.0])|\n",
      "|        ok|           0.0| (4,[0],[1.0])|\n",
      "+----------+--------------+--------------+\n",
      "only showing top 20 rows\n",
      "\n",
      "+------+----------+-------------+\n",
      "|binary|binary_idx|   binary_ohe|\n",
      "+------+----------+-------------+\n",
      "|  FAIL|       0.0|(1,[0],[1.0])|\n",
      "|  PASS|       1.0|    (1,[],[])|\n",
      "|  FAIL|       0.0|(1,[0],[1.0])|\n",
      "|  FAIL|       0.0|(1,[0],[1.0])|\n",
      "|  FAIL|       0.0|(1,[0],[1.0])|\n",
      "|  FAIL|       0.0|(1,[0],[1.0])|\n",
      "|  FAIL|       0.0|(1,[0],[1.0])|\n",
      "|  PASS|       1.0|    (1,[],[])|\n",
      "|  PASS|       1.0|    (1,[],[])|\n",
      "|  FAIL|       0.0|(1,[0],[1.0])|\n",
      "|  PASS|       1.0|    (1,[],[])|\n",
      "|  PASS|       1.0|    (1,[],[])|\n",
      "|  PASS|       1.0|    (1,[],[])|\n",
      "|  PASS|       1.0|    (1,[],[])|\n",
      "|  FAIL|       0.0|(1,[0],[1.0])|\n",
      "|  PASS|       1.0|    (1,[],[])|\n",
      "|  FAIL|       0.0|(1,[0],[1.0])|\n",
      "|  PASS|       1.0|    (1,[],[])|\n",
      "|  FAIL|       0.0|(1,[0],[1.0])|\n",
      "|  PASS|       1.0|    (1,[],[])|\n",
      "+------+----------+-------------+\n",
      "only showing top 20 rows\n",
      "\n"
     ]
    }
   ],
   "source": [
    "# Step two: One-Hot Encoding\n",
    "from pyspark.ml.feature import OneHotEncoder\n",
    "\n",
    "# Encoding 'clean_test'\n",
    "ohe_0 = OneHotEncoder().setInputCol(\"clean_test_idx\").setOutputCol(\"clean_test_ohe\")\n",
    "\n",
    "# Encoding 'binary'\n",
    "ohe_1 = OneHotEncoder().setInputCol(\"binary_idx\").setOutputCol(\"binary_ohe\")\n",
    "\n",
    "# Let's show what we have\n",
    "ohe_0.transform(df).select(['clean_test', 'clean_test_idx', 'clean_test_ohe']).show()\n",
    "ohe_1.transform(df).select(['binary', 'binary_idx', 'binary_ohe']).show()\n",
    "\n",
    "# Apply ohe_1 to df\n",
    "df = ohe_1.transform(df)"
   ]
  },
  {
   "cell_type": "markdown",
   "metadata": {},
   "source": [
    "### Assembling Vectors"
   ]
  },
  {
   "cell_type": "code",
   "execution_count": 13,
   "metadata": {
    "ExecuteTime": {
     "end_time": "2020-06-25T10:33:36.492321Z",
     "start_time": "2020-06-25T10:33:36.001874Z"
    }
   },
   "outputs": [
    {
     "name": "stdout",
     "output_type": "stream",
     "text": [
      "+--------------------+--------------------+\n",
      "|          features_0|          features_1|\n",
      "+--------------------+--------------------+\n",
      "|[2013.0,1.3E7,2.5...|[2013.0,1.3E7,2.5...|\n",
      "|[2012.0,4.5658735...|[2012.0,4.5658735...|\n",
      "|[2013.0,2.0E7,5.3...|[2013.0,2.0E7,5.3...|\n",
      "|[2013.0,6.1E7,7.5...|[2013.0,6.1E7,7.5...|\n",
      "|[2013.0,4.0E7,9.5...|[2013.0,4.0E7,9.5...|\n",
      "|[2013.0,2.25E8,3....|[2013.0,2.25E8,3....|\n",
      "|[2013.0,9.2E7,6.7...|[2013.0,9.2E7,6.7...|\n",
      "|[2013.0,1.2E7,1.5...|[2013.0,1.2E7,1.5...|\n",
      "|[2013.0,1.3E7,1.8...|[2013.0,1.3E7,1.8...|\n",
      "|[2013.0,1.3E8,6.0...|[2013.0,1.3E8,6.0...|\n",
      "|[2013.0,4.0E7,1.4...|[2013.0,4.0E7,1.4...|\n",
      "|[2013.0,2.5E7,3.7...|[2013.0,2.5E7,3.7...|\n",
      "|[2013.0,5.0E7,1.9...|[2013.0,5.0E7,1.9...|\n",
      "|[2013.0,1.8E7,3.3...|[2013.0,1.8E7,3.3...|\n",
      "|[2013.0,5.5E7,1.0...|[2013.0,5.5E7,1.0...|\n",
      "|[2013.0,3.0E7,3.5...|[2013.0,3.0E7,3.5...|\n",
      "|[2013.0,7.8E7,1.1...|[2013.0,7.8E7,1.1...|\n",
      "|[2013.0,7.6E7,3.6...|[2013.0,7.6E7,3.6...|\n",
      "|[2013.0,5500000.0...|[2013.0,5500000.0...|\n",
      "|[2013.0,1.2E8,9.3...|[2013.0,1.2E8,9.3...|\n",
      "+--------------------+--------------------+\n",
      "only showing top 20 rows\n",
      "\n"
     ]
    }
   ],
   "source": [
    "from pyspark.ml.feature import VectorAssembler\n",
    "\n",
    "# Assembling a Vector for Logistic Regression\n",
    "v_0 = VectorAssembler() \\\n",
    "     .setInputCols([\"year\", \"budget_2013\", \"domgross_2013\", \"intgross_2013\"]) \\\n",
    "     .setOutputCol('features_0')\n",
    "\n",
    "# Assembling a Vector for Linear Regression\n",
    "v_1 = VectorAssembler() \\\n",
    "     .setInputCols([\"year\", \"budget_2013\", \"domgross_2013\", \"binary_ohe\"]) \\\n",
    "     .setOutputCol('features_1')\n",
    "\n",
    "# Applying\n",
    "df = v_0.transform(df)\n",
    "df = v_1.transform(df)\n",
    "\n",
    "# show\n",
    "df.select(['features_0', 'features_1']).show()"
   ]
  },
  {
   "cell_type": "markdown",
   "metadata": {},
   "source": [
    "### Splitting train and test"
   ]
  },
  {
   "cell_type": "code",
   "execution_count": 14,
   "metadata": {
    "ExecuteTime": {
     "end_time": "2020-06-25T10:34:11.090478Z",
     "start_time": "2020-06-25T10:34:11.052969Z"
    }
   },
   "outputs": [],
   "source": [
    "# splitting training and test\n",
    "train, test = df.randomSplit([0.7, 0.3])"
   ]
  },
  {
   "cell_type": "markdown",
   "metadata": {},
   "source": [
    "## Estimation"
   ]
  },
  {
   "cell_type": "markdown",
   "metadata": {},
   "source": [
    "### Logistic Regression"
   ]
  },
  {
   "cell_type": "code",
   "execution_count": 15,
   "metadata": {
    "ExecuteTime": {
     "end_time": "2020-06-25T10:35:46.614192Z",
     "start_time": "2020-06-25T10:35:46.500078Z"
    }
   },
   "outputs": [
    {
     "name": "stdout",
     "output_type": "stream",
     "text": [
      "0. \u001b[1maggregationDepth\u001b[0m :  suggested depth for treeAggregate (>= 2). (default: 2)\n",
      "    \n",
      "1. \u001b[1melasticNetParam\u001b[0m :  the ElasticNet mixing parameter, in range [0, 1]. For alpha = 0, the penalty is an L2 penalty. For alpha = 1, it is an L1 penalty. (default: 0.0)\n",
      "    \n",
      "2. \u001b[1mfamily\u001b[0m :  The name of family which is a description of the label distribution to be used in the model. Supported options: auto, binomial, multinomial (default: auto)\n",
      "    \n",
      "3. \u001b[1mfeaturesCol\u001b[0m :  features column name. (default: features, current: features_0)\n",
      "    \n",
      "4. \u001b[1mfitIntercept\u001b[0m :  whether to fit an intercept term. (default: True)\n",
      "    \n",
      "5. \u001b[1mlabelCol\u001b[0m :  label column name. (default: label, current: binary_idx)\n",
      "    \n",
      "6. \u001b[1mlowerBoundsOnCoefficients\u001b[0m :  The lower bounds on coefficients if fitting under bound constrained optimization. The bound matrix must be compatible with the shape (1, number of features) for binomial regression, or (number of classes, number of features) for multinomial regression. (undefined)\n",
      "    \n",
      "7. \u001b[1mlowerBoundsOnIntercepts\u001b[0m :  The lower bounds on intercepts if fitting under bound constrained optimization. The bounds vector size must beequal with 1 for binomial regression, or the number oflasses for multinomial regression. (undefined)\n",
      "    \n",
      "8. \u001b[1mmaxIter\u001b[0m :  max number of iterations (>= 0). (default: 100)\n",
      "    \n",
      "9. \u001b[1mpredictionCol\u001b[0m :  prediction column name. (default: prediction)\n",
      "    \n",
      "10. \u001b[1mprobabilityCol\u001b[0m :  Column name for predicted class conditional probabilities. Note: Not all models output well-calibrated probability estimates! These probabilities should be treated as confidences, not precise probabilities. (default: probability)\n",
      "    \n",
      "11. \u001b[1mrawPredictionCol\u001b[0m :  raw prediction (a.k.a. confidence) column name. (default: rawPrediction)\n",
      "    \n",
      "12. \u001b[1mregParam\u001b[0m :  regularization parameter (>= 0). (default: 0.0)\n",
      "    \n",
      "13. \u001b[1mstandardization\u001b[0m :  whether to standardize the training features before fitting the model. (default: True)\n",
      "    \n",
      "14. \u001b[1mthreshold\u001b[0m :  Threshold in binary classification prediction, in range [0, 1]. If threshold and thresholds are both set, they must match.e.g. if threshold is p, then thresholds must be equal to [1-p, p]. (default: 0.5)\n",
      "    \n",
      "15. \u001b[1mthresholds\u001b[0m :  Thresholds in multi-class classification to adjust the probability of predicting each class. Array must have length equal to the number of classes, with values > 0, excepting that at most one value may be 0. The class with largest value p/t is predicted, where p is the original probability of that class and t is the class's threshold. (undefined)\n",
      "    \n",
      "16. \u001b[1mtol\u001b[0m :  the convergence tolerance for iterative algorithms (>= 0). (default: 1e-06)\n",
      "    \n",
      "17. \u001b[1mupperBoundsOnCoefficients\u001b[0m :  The upper bounds on coefficients if fitting under bound constrained optimization. The bound matrix must be compatible with the shape (1, number of features) for binomial regression, or (number of classes, number of features) for multinomial regression. (undefined)\n",
      "    \n",
      "18. \u001b[1mupperBoundsOnIntercepts\u001b[0m :  The upper bounds on intercepts if fitting under bound constrained optimization. The bound vector size must be equal with 1 for binomial regression, or the number of classes for multinomial regression. (undefined)\n",
      "    \n",
      "19. \u001b[1mweightCol\u001b[0m :  weight column name. If this is not set or empty, we treat all instance weights as 1.0. (undefined)\n",
      "    \n"
     ]
    }
   ],
   "source": [
    "from pyspark.ml.classification import LogisticRegression\n",
    "\n",
    "# instance of Logistic Regression\n",
    "lr_0 = LogisticRegression(labelCol=\"binary_idx\",featuresCol=\"features_0\")\n",
    "\n",
    "# let's inspect the parameters\n",
    "a = lr_0.explainParams().split('\\n')\n",
    "x = 0\n",
    "for i in a:\n",
    "    b = i.split(':',1)\n",
    "    b_0,b_1 = '\\033[1m' + b[0] + '\\033[0m', b[1]\n",
    "    print(\"\"\"{}. {} : {}\n",
    "    \"\"\".format(x, b_0,b_1), flush=True)\n",
    "    x=x+1"
   ]
  },
  {
   "cell_type": "code",
   "execution_count": 16,
   "metadata": {
    "ExecuteTime": {
     "end_time": "2020-06-25T10:36:38.821400Z",
     "start_time": "2020-06-25T10:36:33.758098Z"
    }
   },
   "outputs": [
    {
     "name": "stdout",
     "output_type": "stream",
     "text": [
      " \n",
      "\n",
      "Coefficients:\n",
      "============\n",
      "[0.00019115001461326143,-7.923009910075992e-09,5.14759242851688e-10,1.349420869412762e-10]\n",
      "\n",
      "\n",
      "Intercept:\n",
      "=========\n",
      "-0.19831807350173747\n",
      "\n",
      "\n",
      "+----------+----------+\n",
      "|binary_idx|prediction|\n",
      "+----------+----------+\n",
      "|       1.0|       1.0|\n",
      "|       0.0|       0.0|\n",
      "|       0.0|       1.0|\n",
      "|       0.0|       1.0|\n",
      "|       0.0|       0.0|\n",
      "|       0.0|       1.0|\n",
      "|       1.0|       1.0|\n",
      "|       1.0|       1.0|\n",
      "|       0.0|       0.0|\n",
      "|       1.0|       1.0|\n",
      "|       1.0|       0.0|\n",
      "|       0.0|       0.0|\n",
      "|       0.0|       0.0|\n",
      "|       0.0|       0.0|\n",
      "|       0.0|       0.0|\n",
      "|       1.0|       1.0|\n",
      "|       1.0|       1.0|\n",
      "|       0.0|       0.0|\n",
      "|       0.0|       0.0|\n",
      "|       0.0|       0.0|\n",
      "+----------+----------+\n",
      "only showing top 20 rows\n",
      "\n"
     ]
    }
   ],
   "source": [
    "# let's fit data\n",
    "fitLr_0 = lr_0.fit(train)\n",
    "\n",
    "# Print the coefficients and intercept\n",
    "print(\"\"\" \n",
    "\n",
    "Coefficients:\n",
    "============\n",
    "{}\n",
    "\n",
    "\n",
    "Intercept:\n",
    "=========\n",
    "{}\n",
    "\n",
    "\"\"\".format(fitLr_0.coefficients, fitLr_0.intercept), flush=True)\n",
    "\n",
    "# comparing binary and prediction\n",
    "fitLr_0.transform(train).select(\"binary_idx\", \"prediction\").show()"
   ]
  },
  {
   "cell_type": "code",
   "execution_count": 17,
   "metadata": {
    "ExecuteTime": {
     "end_time": "2020-06-25T10:37:46.336437Z",
     "start_time": "2020-06-25T10:37:45.384825Z"
    }
   },
   "outputs": [
    {
     "name": "stdout",
     "output_type": "stream",
     "text": [
      "\n",
      "- Accuracy: 0.581945661700263\n",
      "- Area Under ROC : 0.6152811811780763\n",
      "- False Positive Rate by Label: [0.5184466019417475, 0.3354632587859425]\n",
      "- Precision by Label: [0.6090775988286969, 0.5414847161572053]\n",
      "- Tot. Iterations: 51\n",
      "- Objective History: \n",
      "[0.6884076889063466, 0.6883181071176948, 0.6854656458372611, 0.6762411521768334, 0.6761759540915232, 0.6761720393324852, 0.6761699625982208, 0.6761569310173708, 0.6761303803630724, 0.6760545485525062, 0.6758697407926855, 0.6754177887524073, 0.6744541651873972, 0.6744179980499442, 0.6728313447504553, 0.671315584752617, 0.6707420029762586, 0.6706377482695226, 0.6706328338634925, 0.6706327990995035, 0.6706327975325345, 0.6706327972967637, 0.6706327944421704, 0.6706327886141348, 0.6706327718442211, 0.6706327322761929, 0.670632723155634, 0.6706326218152636, 0.6706323067775121, 0.6706317396452673, 0.6706309153603977, 0.670630328941791, 0.670630163103641, 0.6706301485773097, 0.670630148144775, 0.6706301479964797, 0.6706301475590855, 0.6706301475565596, 0.6706301475440432, 0.6706301475424848, 0.6706301475418773, 0.6706301475400653, 0.6706301475360599, 0.6706301475247274, 0.6706301474958857, 0.6706301474196866, 0.6706301472285187, 0.670630146769767, 0.6706301465226243, 0.6706301446600734, 0.6706301412218855]\n",
      "\n"
     ]
    }
   ],
   "source": [
    "# get some more info\n",
    "s_0 = fitLr_0.summary\n",
    "\n",
    "# Obtain the objective per iteration\n",
    "objectiveHistory = s_0.objectiveHistory\n",
    "\n",
    "print(\"\"\"\n",
    "- Accuracy: {}\n",
    "- Area Under ROC : {}\n",
    "- False Positive Rate by Label: {}\n",
    "- Precision by Label: {}\n",
    "- Tot. Iterations: {}\n",
    "- Objective History: \n",
    "{}\n",
    "\"\"\".format(s_0.accuracy, s_0.areaUnderROC,\n",
    "           s_0.falsePositiveRateByLabel, s_0.precisionByLabel,\n",
    "           s_0.totalIterations, [obj for obj in objectiveHistory]),\n",
    "      flush=True)"
   ]
  },
  {
   "cell_type": "markdown",
   "metadata": {},
   "source": [
    "### Linear Regression"
   ]
  },
  {
   "cell_type": "code",
   "execution_count": 18,
   "metadata": {
    "ExecuteTime": {
     "end_time": "2020-06-25T10:39:05.886404Z",
     "start_time": "2020-06-25T10:39:04.273123Z"
    }
   },
   "outputs": [
    {
     "name": "stdout",
     "output_type": "stream",
     "text": [
      "0. \u001b[1maggregationDepth\u001b[0m :  suggested depth for treeAggregate (>= 2). (default: 2)\n",
      "    \n",
      "1. \u001b[1melasticNetParam\u001b[0m :  the ElasticNet mixing parameter, in range [0, 1]. For alpha = 0, the penalty is an L2 penalty. For alpha = 1, it is an L1 penalty. (default: 0.0)\n",
      "    \n",
      "2. \u001b[1mepsilon\u001b[0m :  The shape parameter to control the amount of robustness. Must be > 1.0. Only valid when loss is huber (default: 1.35)\n",
      "    \n",
      "3. \u001b[1mfeaturesCol\u001b[0m :  features column name. (default: features, current: features_1)\n",
      "    \n",
      "4. \u001b[1mfitIntercept\u001b[0m :  whether to fit an intercept term. (default: True)\n",
      "    \n",
      "5. \u001b[1mlabelCol\u001b[0m :  label column name. (default: label, current: intgross_2013)\n",
      "    \n",
      "6. \u001b[1mloss\u001b[0m :  The loss function to be optimized. Supported options: squaredError, huber. (default: squaredError)\n",
      "    \n",
      "7. \u001b[1mmaxIter\u001b[0m :  max number of iterations (>= 0). (default: 100)\n",
      "    \n",
      "8. \u001b[1mpredictionCol\u001b[0m :  prediction column name. (default: prediction)\n",
      "    \n",
      "9. \u001b[1mregParam\u001b[0m :  regularization parameter (>= 0). (default: 0.0)\n",
      "    \n",
      "10. \u001b[1msolver\u001b[0m :  The solver algorithm for optimization. Supported options: auto, normal, l-bfgs. (default: auto)\n",
      "    \n",
      "11. \u001b[1mstandardization\u001b[0m :  whether to standardize the training features before fitting the model. (default: True)\n",
      "    \n",
      "12. \u001b[1mtol\u001b[0m :  the convergence tolerance for iterative algorithms (>= 0). (default: 1e-06)\n",
      "    \n",
      "13. \u001b[1mweightCol\u001b[0m :  weight column name. If this is not set or empty, we treat all instance weights as 1.0. (undefined)\n",
      "    \n"
     ]
    }
   ],
   "source": [
    "from pyspark.ml.regression import LinearRegression\n",
    "\n",
    "# instance of Linear Regression\n",
    "lr_1 = LinearRegression(labelCol=\"intgross_2013\",featuresCol=\"features_1\")\n",
    "\n",
    "# let's inspect parameters\n",
    "a = lr_1.explainParams().split('\\n')\n",
    "x = 0\n",
    "for i in a:\n",
    "    b = i.split(':',1)\n",
    "    b_0,b_1 = '\\033[1m' + b[0] + '\\033[0m', b[1]\n",
    "    print(\"\"\"{}. {} : {}\n",
    "    \"\"\".format(x, b_0,b_1), flush=True)\n",
    "    x=x+1\n",
    "\n",
    "# fit\n",
    "fitLr_1 = lr_1.fit(df)"
   ]
  },
  {
   "cell_type": "code",
   "execution_count": 19,
   "metadata": {
    "ExecuteTime": {
     "end_time": "2020-06-25T10:39:20.563619Z",
     "start_time": "2020-06-25T10:39:20.454218Z"
    }
   },
   "outputs": [
    {
     "name": "stdout",
     "output_type": "stream",
     "text": [
      "\n",
      "- R^2 adj: 0.9131851999795355\n",
      "- RMSE : 69818762.76650697\n",
      "- Intercept: -4599900747.5218725\n",
      "- Coefficients: [2279181.5468098656,0.6205229945580747,2.164565679609964,-2572331.9857173893]\n",
      "- p-values: [1.0369483049998962e-13, 0.0, 0.0, 0.4702870069042637, 7.194245199571014e-14]\n",
      "\n"
     ]
    }
   ],
   "source": [
    "# summary stats\n",
    "s_1 = fitLr_1.summary\n",
    "print(\"\"\"\n",
    "- R^2 adj: {}\n",
    "- RMSE : {}\n",
    "- Intercept: {}\n",
    "- Coefficients: {}\n",
    "- p-values: {}\n",
    "\"\"\".format(s_1.r2adj, s_1.rootMeanSquaredError, fitLr_1.intercept, fitLr_1.coefficients, s_1.pValues),\n",
    "      flush=True)"
   ]
  },
  {
   "cell_type": "code",
   "execution_count": 20,
   "metadata": {
    "ExecuteTime": {
     "end_time": "2020-06-25T10:40:23.354709Z",
     "start_time": "2020-06-25T10:40:22.425350Z"
    }
   },
   "outputs": [
    {
     "name": "stdout",
     "output_type": "stream",
     "text": [
      "+--------------+----------------+\n",
      "|      intgross|      prediction|\n",
      "+--------------+----------------+\n",
      "| 60,918,157.00|   53,888,061.47|\n",
      "|427,582,507.00|  463,340,549.51|\n",
      "|922,868,068.00|  797,357,656.76|\n",
      "|849,917,050.00|1,052,551,471.69|\n",
      "|357,486,568.00|  432,153,233.19|\n",
      "|  7,796,169.00|  -42,281,840.74|\n",
      "|  8,946,919.00|  -37,218,634.80|\n",
      "|771,396,947.00|  639,695,139.31|\n",
      "|354,127,435.00|  298,627,063.93|\n",
      "| 29,717,001.00|   11,058,703.44|\n",
      "|327,629,772.00|  390,122,692.59|\n",
      "| 64,220,970.00|   95,620,203.31|\n",
      "|514,714,575.00|  452,799,377.33|\n",
      "|148,724,056.00|  281,717,530.39|\n",
      "|668,083,163.00|  601,319,568.21|\n",
      "|471,724,395.00|  443,292,646.46|\n",
      "|  2,100,070.00|  -57,480,131.42|\n",
      "|884,189,932.00|  800,180,040.39|\n",
      "|263,165,037.00|  191,726,616.69|\n",
      "|443,020,974.00|  605,292,043.94|\n",
      "+--------------+----------------+\n",
      "only showing top 20 rows\n",
      "\n"
     ]
    }
   ],
   "source": [
    "# let's create a reference dataframe\n",
    "results = fitLr_1.transform(train).select(['intgross_2013', 'prediction'])\n",
    "results.createOrReplaceTempView('results')\n",
    "spark_session.sql(\n",
    "    \"SELECT format_number(intgross_2013,2) as intgross, format_number(prediction,2) as prediction FROM results\"\n",
    ").show()"
   ]
  },
  {
   "cell_type": "markdown",
   "metadata": {},
   "source": [
    "## Save Data"
   ]
  },
  {
   "cell_type": "code",
   "execution_count": 21,
   "metadata": {
    "ExecuteTime": {
     "end_time": "2020-06-25T10:41:53.444776Z",
     "start_time": "2020-06-25T10:41:52.783183Z"
    }
   },
   "outputs": [],
   "source": [
    "# save to Postgre\n",
    "results.write \\\n",
    "    .format(\"jdbc\") \\\n",
    "    .option(\"url\", \"jdbc:postgresql://localhost:5433/smm695\") \\\n",
    "    .option(\"dbtable\", \"results\") \\\n",
    "    .option(\"user\", \"postgres\") \\\n",
    "    .option(\"password\", \"smm695\") \\\n",
    "    .option(\"driver\", \"org.postgresql.Driver\") \\\n",
    "    .mode(\"overwrite\") \\\n",
    "    .save()"
   ]
  },
  {
   "cell_type": "code",
   "execution_count": 22,
   "metadata": {
    "ExecuteTime": {
     "end_time": "2020-06-25T10:42:17.698318Z",
     "start_time": "2020-06-25T10:42:16.934190Z"
    }
   },
   "outputs": [],
   "source": [
    "# save to MongoDB\n",
    "results.write \\\n",
    "        .option(\"spark.mongodb.output.uri\", \"mongodb://127.0.0.1/pyspark.results\") \\\n",
    "        .format(\"mongo\") \\\n",
    "        .mode(\"overwrite\") \\\n",
    "        .save()"
   ]
  },
  {
   "cell_type": "markdown",
   "metadata": {},
   "source": [
    "# Pipeline"
   ]
  },
  {
   "cell_type": "code",
   "execution_count": 23,
   "metadata": {
    "ExecuteTime": {
     "end_time": "2020-06-25T10:43:32.510774Z",
     "start_time": "2020-06-25T10:43:32.503045Z"
    }
   },
   "outputs": [],
   "source": [
    "from pyspark.ml.feature import RFormula\n",
    "from pyspark.ml import Pipeline\n",
    "from pyspark.ml.tuning import ParamGridBuilder\n",
    "from pyspark.ml.evaluation import BinaryClassificationEvaluator\n",
    "from pyspark.ml.tuning import TrainValidationSplit"
   ]
  },
  {
   "cell_type": "code",
   "execution_count": 24,
   "metadata": {
    "ExecuteTime": {
     "end_time": "2020-06-25T10:43:32.982989Z",
     "start_time": "2020-06-25T10:43:32.926545Z"
    }
   },
   "outputs": [],
   "source": [
    "# R Formula to perform simple preprocessing\n",
    "rf = RFormula()\n",
    "\n",
    "# logistic regression\n",
    "lr = LogisticRegression().setLabelCol(\"binary_idx\").setFeaturesCol(\"features\")\n",
    "\n",
    "# let's create a pipeline\n",
    "pipeline = Pipeline().setStages([rf, lr])\n",
    "\n",
    "# setting some parameters\n",
    "params = ParamGridBuilder()\\\n",
    "         .addGrid(rf.formula, \n",
    "                  [\"binary_idx ~ budget_2013\",\n",
    "                   \"binary_idx ~ year + budget_2013\", \n",
    "                   \"binary_idx ~ year + budget_2013 + domgross_2013 + intgross_2013\"]) \\\n",
    "         .addGrid(lr.elasticNetParam, [0.0, 0.5, 1.0]) \\\n",
    "         .addGrid(lr.regParam, [0.0, 0.01, 0.1]) \\\n",
    "         .build()\n",
    "\n",
    "# evaluation\n",
    "evaluator = BinaryClassificationEvaluator() \\\n",
    "            .setMetricName(\"areaUnderROC\") \\\n",
    "            .setRawPredictionCol(\"prediction\") \\\n",
    "            .setLabelCol(\"label\")\n",
    "\n",
    "# hyperparameter tuning\n",
    "tvs = TrainValidationSplit() \\\n",
    "      .setTrainRatio(0.75) \\\n",
    "      .setEstimatorParamMaps(params) \\\n",
    "      .setEstimator(pipeline) \\\n",
    "      .setEvaluator(evaluator)"
   ]
  },
  {
   "cell_type": "code",
   "execution_count": 25,
   "metadata": {
    "ExecuteTime": {
     "end_time": "2020-06-25T10:44:50.545963Z",
     "start_time": "2020-06-25T10:43:33.744228Z"
    }
   },
   "outputs": [],
   "source": [
    "# fit \n",
    "tvsFitted = tvs.fit(train)"
   ]
  },
  {
   "cell_type": "code",
   "execution_count": 26,
   "metadata": {
    "ExecuteTime": {
     "end_time": "2020-06-25T10:48:33.949903Z",
     "start_time": "2020-06-25T10:48:33.935381Z"
    }
   },
   "outputs": [
    {
     "name": "stdout",
     "output_type": "stream",
     "text": [
      "\n",
      "    0. \u001b[1mModel\u001b[0m: binary_idx ~ budget_2013 \u001b[1mElasticNet\u001b[0m: 0.0 \u001b[1mRegular.\u001b[0m: 0.0\n",
      "\n",
      "    1. \u001b[1mModel\u001b[0m: binary_idx ~ budget_2013 \u001b[1mElasticNet\u001b[0m: 0.0 \u001b[1mRegular.\u001b[0m: 0.01\n",
      "\n",
      "    2. \u001b[1mModel\u001b[0m: binary_idx ~ budget_2013 \u001b[1mElasticNet\u001b[0m: 0.0 \u001b[1mRegular.\u001b[0m: 0.1\n",
      "\n",
      "    3. \u001b[1mModel\u001b[0m: binary_idx ~ budget_2013 \u001b[1mElasticNet\u001b[0m: 0.5 \u001b[1mRegular.\u001b[0m: 0.0\n",
      "\n",
      "    4. \u001b[1mModel\u001b[0m: binary_idx ~ budget_2013 \u001b[1mElasticNet\u001b[0m: 0.5 \u001b[1mRegular.\u001b[0m: 0.01\n",
      "\n",
      "    5. \u001b[1mModel\u001b[0m: binary_idx ~ budget_2013 \u001b[1mElasticNet\u001b[0m: 0.5 \u001b[1mRegular.\u001b[0m: 0.1\n",
      "\n",
      "    6. \u001b[1mModel\u001b[0m: binary_idx ~ budget_2013 \u001b[1mElasticNet\u001b[0m: 1.0 \u001b[1mRegular.\u001b[0m: 0.0\n",
      "\n",
      "    7. \u001b[1mModel\u001b[0m: binary_idx ~ budget_2013 \u001b[1mElasticNet\u001b[0m: 1.0 \u001b[1mRegular.\u001b[0m: 0.01\n",
      "\n",
      "    8. \u001b[1mModel\u001b[0m: binary_idx ~ budget_2013 \u001b[1mElasticNet\u001b[0m: 1.0 \u001b[1mRegular.\u001b[0m: 0.1\n",
      "\n",
      "    9. \u001b[1mModel\u001b[0m: binary_idx ~ year + budget_2013 \u001b[1mElasticNet\u001b[0m: 0.0 \u001b[1mRegular.\u001b[0m: 0.0\n",
      "\n",
      "    10. \u001b[1mModel\u001b[0m: binary_idx ~ year + budget_2013 \u001b[1mElasticNet\u001b[0m: 0.0 \u001b[1mRegular.\u001b[0m: 0.01\n",
      "\n",
      "    11. \u001b[1mModel\u001b[0m: binary_idx ~ year + budget_2013 \u001b[1mElasticNet\u001b[0m: 0.0 \u001b[1mRegular.\u001b[0m: 0.1\n",
      "\n",
      "    12. \u001b[1mModel\u001b[0m: binary_idx ~ year + budget_2013 \u001b[1mElasticNet\u001b[0m: 0.5 \u001b[1mRegular.\u001b[0m: 0.0\n",
      "\n",
      "    13. \u001b[1mModel\u001b[0m: binary_idx ~ year + budget_2013 \u001b[1mElasticNet\u001b[0m: 0.5 \u001b[1mRegular.\u001b[0m: 0.01\n",
      "\n",
      "    14. \u001b[1mModel\u001b[0m: binary_idx ~ year + budget_2013 \u001b[1mElasticNet\u001b[0m: 0.5 \u001b[1mRegular.\u001b[0m: 0.1\n",
      "\n",
      "    15. \u001b[1mModel\u001b[0m: binary_idx ~ year + budget_2013 \u001b[1mElasticNet\u001b[0m: 1.0 \u001b[1mRegular.\u001b[0m: 0.0\n",
      "\n",
      "    16. \u001b[1mModel\u001b[0m: binary_idx ~ year + budget_2013 \u001b[1mElasticNet\u001b[0m: 1.0 \u001b[1mRegular.\u001b[0m: 0.01\n",
      "\n",
      "    17. \u001b[1mModel\u001b[0m: binary_idx ~ year + budget_2013 \u001b[1mElasticNet\u001b[0m: 1.0 \u001b[1mRegular.\u001b[0m: 0.1\n",
      "\n",
      "    18. \u001b[1mModel\u001b[0m: binary_idx ~ year + budget_2013 + domgross_2013 + intgross_2013 \u001b[1mElasticNet\u001b[0m: 0.0 \u001b[1mRegular.\u001b[0m: 0.0\n",
      "\n",
      "    19. \u001b[1mModel\u001b[0m: binary_idx ~ year + budget_2013 + domgross_2013 + intgross_2013 \u001b[1mElasticNet\u001b[0m: 0.0 \u001b[1mRegular.\u001b[0m: 0.01\n",
      "\n",
      "    20. \u001b[1mModel\u001b[0m: binary_idx ~ year + budget_2013 + domgross_2013 + intgross_2013 \u001b[1mElasticNet\u001b[0m: 0.0 \u001b[1mRegular.\u001b[0m: 0.1\n",
      "\n",
      "    21. \u001b[1mModel\u001b[0m: binary_idx ~ year + budget_2013 + domgross_2013 + intgross_2013 \u001b[1mElasticNet\u001b[0m: 0.5 \u001b[1mRegular.\u001b[0m: 0.0\n",
      "\n",
      "    22. \u001b[1mModel\u001b[0m: binary_idx ~ year + budget_2013 + domgross_2013 + intgross_2013 \u001b[1mElasticNet\u001b[0m: 0.5 \u001b[1mRegular.\u001b[0m: 0.01\n",
      "\n",
      "    23. \u001b[1mModel\u001b[0m: binary_idx ~ year + budget_2013 + domgross_2013 + intgross_2013 \u001b[1mElasticNet\u001b[0m: 0.5 \u001b[1mRegular.\u001b[0m: 0.1\n",
      "\n",
      "    24. \u001b[1mModel\u001b[0m: binary_idx ~ year + budget_2013 + domgross_2013 + intgross_2013 \u001b[1mElasticNet\u001b[0m: 1.0 \u001b[1mRegular.\u001b[0m: 0.0\n",
      "\n",
      "    25. \u001b[1mModel\u001b[0m: binary_idx ~ year + budget_2013 + domgross_2013 + intgross_2013 \u001b[1mElasticNet\u001b[0m: 1.0 \u001b[1mRegular.\u001b[0m: 0.01\n",
      "\n",
      "    26. \u001b[1mModel\u001b[0m: binary_idx ~ year + budget_2013 + domgross_2013 + intgross_2013 \u001b[1mElasticNet\u001b[0m: 1.0 \u001b[1mRegular.\u001b[0m: 0.1\n"
     ]
    }
   ],
   "source": [
    "# get info\n",
    "l = []\n",
    "x = 0\n",
    "for i in tvsFitted.getEstimatorParamMaps():\n",
    "    for a in i.keys():\n",
    "        l.append(a)\n",
    "    b, c, d = i.get(l[0]), i.get(l[1]), i.get(l[2])\n",
    "    print(\"\"\"\n",
    "    {}. \\033[1mModel\\033[0m: {} \\033[1mElasticNet\\033[0m: {} \\033[1mRegular.\\033[0m: {}\"\"\".format(x, b, c, d))\n",
    "    x = x+1"
   ]
  },
  {
   "cell_type": "code",
   "execution_count": 27,
   "metadata": {
    "ExecuteTime": {
     "end_time": "2020-06-25T10:50:18.755857Z",
     "start_time": "2020-06-25T10:50:18.745329Z"
    }
   },
   "outputs": [
    {
     "name": "stdout",
     "output_type": "stream",
     "text": [
      "\n",
      "Model: binary_idx ~ year + budget_2013 \n",
      "\n",
      "ElasticNet: 0.0 \n",
      "\n",
      "Regularization: 0.01\n",
      "\n"
     ]
    }
   ],
   "source": [
    "# best model info\n",
    "bs_0 = tvsFitted.bestModel.stages[0].extractParamMap()\n",
    "bs_1 = tvsFitted.bestModel.stages[1].extractParamMap()\n",
    "\n",
    "l = []\n",
    "m = []\n",
    "for i in bs_0.keys():\n",
    "    l.append(i)\n",
    "for i in bs_1.keys():\n",
    "    m.append(i)\n",
    "        \n",
    "print(\"\"\"\n",
    "Model: {} \n",
    "\n",
    "ElasticNet: {} \n",
    "\n",
    "Regularization: {}\n",
    "\"\"\".format(bs_0.get(l[-1]), bs_1.get(m[1]), bs_1.get(m[-4])), flush=True)"
   ]
  },
  {
   "cell_type": "code",
   "execution_count": 28,
   "metadata": {
    "ExecuteTime": {
     "end_time": "2020-06-25T10:50:54.265597Z",
     "start_time": "2020-06-25T10:50:53.700081Z"
    }
   },
   "outputs": [
    {
     "name": "stdout",
     "output_type": "stream",
     "text": [
      "\n",
      "- Accuracy: 0.5880806310254163\n",
      "- Area Under ROC : 0.6139613511585351\n",
      "- False Positive Rate by Label: [0.5262135922330097, 0.31789137380191695]\n",
      "- Precision by Label: [0.6117478510028653, 0.5507900677200903]\n",
      "- Tot. Iterations: 30\n",
      "- Objective History: \n",
      "[0.6884076889063466, 0.6883791958231267, 0.6883088709137742, 0.6875600473588818, 0.6862629715196343, 0.6830786839554474, 0.6781909831161429, 0.6734790670923877, 0.6720093180020734, 0.6718307816357401, 0.67181543717442, 0.6718151860030718, 0.6718151843301744, 0.6718151843290201, 0.6718151843289951, 0.671815184328695, 0.6718151843280836, 0.6718151843263043, 0.6718151843218295, 0.6718151843099376, 0.6718151842789885, 0.6718151841977588, 0.6718151839852873, 0.6718151834289636, 0.6718151819734663, 0.6718151781661752, 0.671815168216109, 0.6718151422370657, 0.6718150744705004, 0.671814897913341]\n",
      "\n"
     ]
    }
   ],
   "source": [
    "# Best Model\n",
    "s = tvsFitted.bestModel.stages[1].summary\n",
    "\n",
    "# Obtain the objective per iteration\n",
    "objectiveHistory = s.objectiveHistory\n",
    "\n",
    "print(\"\"\"\n",
    "- Accuracy: {}\n",
    "- Area Under ROC : {}\n",
    "- False Positive Rate by Label: {}\n",
    "- Precision by Label: {}\n",
    "- Tot. Iterations: {}\n",
    "- Objective History: \n",
    "{}\n",
    "\"\"\".format(s.accuracy, s.areaUnderROC,\n",
    "           s.falsePositiveRateByLabel, s.precisionByLabel,\n",
    "           s.totalIterations, [obj for obj in objectiveHistory]),\n",
    "      flush=True)"
   ]
  },
  {
   "cell_type": "code",
   "execution_count": 29,
   "metadata": {
    "ExecuteTime": {
     "end_time": "2020-06-25T10:51:32.695002Z",
     "start_time": "2020-06-25T10:51:32.288576Z"
    }
   },
   "outputs": [
    {
     "data": {
      "text/plain": [
       "0.5314295564238106"
      ]
     },
     "execution_count": 29,
     "metadata": {},
     "output_type": "execute_result"
    }
   ],
   "source": [
    "# let's see how it performs on the test\n",
    "evaluator.evaluate(tvsFitted.transform(test))"
   ]
  },
  {
   "cell_type": "markdown",
   "metadata": {},
   "source": [
    "# References\n",
    "\n",
    "* Bill Chambers, Matei Zaharia 2018,[\"Spark: The Definitive Guide\"](https://www.oreilly.com/library/view/spark-the-definitive/9781491912201/) <img src=\"images/_3.png\" width=\"20%\">\n",
    "* [FiveThirtyEight](https://github.com/fivethirtyeight), 2014\n",
    "[<img src=\"images/_2.png\" width=\"40%\">](https://fivethirtyeight.com/features/the-dollar-and-cents-case-against-hollywoods-exclusion-of-women/)"
   ]
  }
 ],
 "metadata": {
  "kernelspec": {
   "display_name": "Python 3",
   "language": "python",
   "name": "python3"
  },
  "language_info": {
   "codemirror_mode": {
    "name": "ipython",
    "version": 3
   },
   "file_extension": ".py",
   "mimetype": "text/x-python",
   "name": "python",
   "nbconvert_exporter": "python",
   "pygments_lexer": "ipython3",
   "version": "3.7.6"
  },
  "latex_envs": {
   "LaTeX_envs_menu_present": true,
   "autoclose": false,
   "autocomplete": true,
   "bibliofile": "biblio.bib",
   "cite_by": "apalike",
   "current_citInitial": 1,
   "eqLabelWithNumbers": true,
   "eqNumInitial": 1,
   "hotkeys": {
    "equation": "Ctrl-E",
    "itemize": "Ctrl-I"
   },
   "labels_anchors": false,
   "latex_user_defs": false,
   "report_style_numbering": false,
   "user_envs_cfg": false
  },
  "toc": {
   "base_numbering": 1,
   "nav_menu": {},
   "number_sections": true,
   "sideBar": true,
   "skip_h1_title": false,
   "title_cell": "Table of Contents",
   "title_sidebar": "Contents",
   "toc_cell": false,
   "toc_position": {
    "height": "calc(100% - 180px)",
    "left": "10px",
    "top": "150px",
    "width": "288px"
   },
   "toc_section_display": true,
   "toc_window_display": true
  },
  "varInspector": {
   "cols": {
    "lenName": 16,
    "lenType": 16,
    "lenVar": 40
   },
   "kernels_config": {
    "python": {
     "delete_cmd_postfix": "",
     "delete_cmd_prefix": "del ",
     "library": "var_list.py",
     "varRefreshCmd": "print(var_dic_list())"
    },
    "r": {
     "delete_cmd_postfix": ") ",
     "delete_cmd_prefix": "rm(",
     "library": "var_list.r",
     "varRefreshCmd": "cat(var_dic_list()) "
    }
   },
   "types_to_exclude": [
    "module",
    "function",
    "builtin_function_or_method",
    "instance",
    "_Feature"
   ],
   "window_display": false
  }
 },
 "nbformat": 4,
 "nbformat_minor": 4
}
